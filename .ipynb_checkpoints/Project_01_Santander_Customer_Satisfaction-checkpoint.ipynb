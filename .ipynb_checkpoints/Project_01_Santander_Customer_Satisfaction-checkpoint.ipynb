{
 "cells": [
  {
   "cell_type": "markdown",
   "id": "9ef347cf",
   "metadata": {},
   "source": [
    "# Santander Customer Satisfaction"
   ]
  },
  {
   "cell_type": "markdown",
   "id": "723484b8",
   "metadata": {},
   "source": [
    "## Descrição do Problema de Negócio"
   ]
  },
  {
   "cell_type": "markdown",
   "id": "dd40b6f8",
   "metadata": {},
   "source": [
    "A satisfação do cliente é uma medida fundamental de sucesso. Clientes insatisfeitos cancelam seus serviços e raramente expressam sua insatisfação antes de sair. Clientes satisfeitos, por outro lado, se tornam defensores da marca!\n",
    "\n",
    "\n",
    "O Banco Santander está pedindo para ajudá-los a identificar clientes insatisfeitos no início do relacionamento. Isso permitiria que o Santander adotasse medidas proativas para melhorar a felicidade de um cliente antes que seja tarde demais.\n",
    "\n",
    "\n",
    "Neste projeto de aprendizado de máquina, iremos trabalhar com centenas de recursos anônimos para prever se um cliente está satisfeito ou insatisfeito com sua experiência bancária.\n",
    "\n",
    "Os dados estão disponíveis no Kaggle (https://www.kaggle.com/c/santander-customer-satisfaction/overview)."
   ]
  },
  {
   "cell_type": "markdown",
   "id": "c82305d8",
   "metadata": {},
   "source": [
    "## Objetivo"
   ]
  },
  {
   "cell_type": "markdown",
   "id": "cfe86cdf",
   "metadata": {},
   "source": [
    "Prever se um cliente está satisfeito ou insatisfeito com sua experiência bancária com acurácia de pelo menos 70%."
   ]
  },
  {
   "cell_type": "markdown",
   "id": "9b08738a",
   "metadata": {},
   "source": [
    "## Importando as bibliotecas"
   ]
  },
  {
   "cell_type": "code",
   "execution_count": 1,
   "id": "78f6ae2e",
   "metadata": {
    "ExecuteTime": {
     "end_time": "2021-10-08T13:07:37.831068Z",
     "start_time": "2021-10-08T13:07:32.828735Z"
    }
   },
   "outputs": [],
   "source": [
    "import warnings\n",
    "warnings.filterwarnings(\"ignore\")\n",
    "\n",
    "from IPython.display import Image\n",
    "\n",
    "import numpy as np\n",
    "import pandas as pd\n",
    "\n",
    "import matplotlib.pyplot as plt\n",
    "import seaborn as sns\n",
    "\n",
    "from sklearn.model_selection import train_test_split, KFold, cross_val_score\n",
    "\n",
    "from sklearn.feature_selection import VarianceThreshold, SelectKBest, f_classif\n",
    "\n",
    "from sklearn.metrics import accuracy_score, \n",
    "\n",
    "from sklearn.linear_model import LogisticRegression\n",
    "\n",
    "from sklearn.ensemble import RandomForestClassifier"
   ]
  },
  {
   "cell_type": "markdown",
   "id": "910d12ad",
   "metadata": {},
   "source": [
    "## Funções auxiliares"
   ]
  },
  {
   "cell_type": "markdown",
   "id": "459a839d",
   "metadata": {},
   "source": [
    "Funções que serão utilizadas no decorrer do projeto."
   ]
  },
  {
   "cell_type": "code",
   "execution_count": 2,
   "id": "f1ed9d87",
   "metadata": {
    "ExecuteTime": {
     "end_time": "2021-10-08T13:07:41.270245Z",
     "start_time": "2021-10-08T13:07:41.258265Z"
    }
   },
   "outputs": [],
   "source": [
    "def show_dimensions(data):\n",
    "    # dimensões dos dados\n",
    "    print('Dimensões do dataset.')\n",
    "    print('Número de linhas: {}'.format(data.shape[0]))\n",
    "    print('Número de colunas: {}'.format(data.shape[1]))\n",
    "    print()\n",
    "    return None\n",
    "\n",
    "def show_null(data):\n",
    "    # visualiza se existem valores nulos\n",
    "    print(data.isnull().sum())\n",
    "    return None\n",
    "\n",
    "def show_null_only(data):\n",
    "    # visualiza apenas os resultados nulos\n",
    "    print(data.isnull().sum()[data.isnull().sum() != 0])\n",
    "    return None"
   ]
  },
  {
   "cell_type": "markdown",
   "id": "44aa4d5a",
   "metadata": {},
   "source": [
    "## Carregando os dados"
   ]
  },
  {
   "cell_type": "code",
   "execution_count": 3,
   "id": "e8f7cff7",
   "metadata": {
    "ExecuteTime": {
     "end_time": "2021-10-05T11:43:06.030079Z",
     "start_time": "2021-10-05T11:43:02.919966Z"
    }
   },
   "outputs": [],
   "source": [
    "# Carregando os dados de treino\n",
    "dadosTreino = pd.read_csv('dataset/train.csv')"
   ]
  },
  {
   "cell_type": "code",
   "execution_count": 4,
   "id": "03e1a0b2",
   "metadata": {
    "ExecuteTime": {
     "end_time": "2021-10-05T11:43:06.125018Z",
     "start_time": "2021-10-05T11:43:06.032045Z"
    }
   },
   "outputs": [
    {
     "data": {
      "text/html": [
       "<div>\n",
       "<style scoped>\n",
       "    .dataframe tbody tr th:only-of-type {\n",
       "        vertical-align: middle;\n",
       "    }\n",
       "\n",
       "    .dataframe tbody tr th {\n",
       "        vertical-align: top;\n",
       "    }\n",
       "\n",
       "    .dataframe thead th {\n",
       "        text-align: right;\n",
       "    }\n",
       "</style>\n",
       "<table border=\"1\" class=\"dataframe\">\n",
       "  <thead>\n",
       "    <tr style=\"text-align: right;\">\n",
       "      <th></th>\n",
       "      <th>ID</th>\n",
       "      <th>var3</th>\n",
       "      <th>var15</th>\n",
       "      <th>imp_ent_var16_ult1</th>\n",
       "      <th>imp_op_var39_comer_ult1</th>\n",
       "      <th>imp_op_var39_comer_ult3</th>\n",
       "      <th>imp_op_var40_comer_ult1</th>\n",
       "      <th>imp_op_var40_comer_ult3</th>\n",
       "      <th>imp_op_var40_efect_ult1</th>\n",
       "      <th>imp_op_var40_efect_ult3</th>\n",
       "      <th>...</th>\n",
       "      <th>saldo_medio_var33_hace2</th>\n",
       "      <th>saldo_medio_var33_hace3</th>\n",
       "      <th>saldo_medio_var33_ult1</th>\n",
       "      <th>saldo_medio_var33_ult3</th>\n",
       "      <th>saldo_medio_var44_hace2</th>\n",
       "      <th>saldo_medio_var44_hace3</th>\n",
       "      <th>saldo_medio_var44_ult1</th>\n",
       "      <th>saldo_medio_var44_ult3</th>\n",
       "      <th>var38</th>\n",
       "      <th>TARGET</th>\n",
       "    </tr>\n",
       "  </thead>\n",
       "  <tbody>\n",
       "    <tr>\n",
       "      <th>0</th>\n",
       "      <td>1</td>\n",
       "      <td>2</td>\n",
       "      <td>23</td>\n",
       "      <td>0.0</td>\n",
       "      <td>0.0</td>\n",
       "      <td>0.0</td>\n",
       "      <td>0.0</td>\n",
       "      <td>0.0</td>\n",
       "      <td>0.0</td>\n",
       "      <td>0.0</td>\n",
       "      <td>...</td>\n",
       "      <td>0.0</td>\n",
       "      <td>0.0</td>\n",
       "      <td>0.0</td>\n",
       "      <td>0.0</td>\n",
       "      <td>0.0</td>\n",
       "      <td>0.0</td>\n",
       "      <td>0.0</td>\n",
       "      <td>0.0</td>\n",
       "      <td>39205.170000</td>\n",
       "      <td>0</td>\n",
       "    </tr>\n",
       "    <tr>\n",
       "      <th>1</th>\n",
       "      <td>3</td>\n",
       "      <td>2</td>\n",
       "      <td>34</td>\n",
       "      <td>0.0</td>\n",
       "      <td>0.0</td>\n",
       "      <td>0.0</td>\n",
       "      <td>0.0</td>\n",
       "      <td>0.0</td>\n",
       "      <td>0.0</td>\n",
       "      <td>0.0</td>\n",
       "      <td>...</td>\n",
       "      <td>0.0</td>\n",
       "      <td>0.0</td>\n",
       "      <td>0.0</td>\n",
       "      <td>0.0</td>\n",
       "      <td>0.0</td>\n",
       "      <td>0.0</td>\n",
       "      <td>0.0</td>\n",
       "      <td>0.0</td>\n",
       "      <td>49278.030000</td>\n",
       "      <td>0</td>\n",
       "    </tr>\n",
       "    <tr>\n",
       "      <th>2</th>\n",
       "      <td>4</td>\n",
       "      <td>2</td>\n",
       "      <td>23</td>\n",
       "      <td>0.0</td>\n",
       "      <td>0.0</td>\n",
       "      <td>0.0</td>\n",
       "      <td>0.0</td>\n",
       "      <td>0.0</td>\n",
       "      <td>0.0</td>\n",
       "      <td>0.0</td>\n",
       "      <td>...</td>\n",
       "      <td>0.0</td>\n",
       "      <td>0.0</td>\n",
       "      <td>0.0</td>\n",
       "      <td>0.0</td>\n",
       "      <td>0.0</td>\n",
       "      <td>0.0</td>\n",
       "      <td>0.0</td>\n",
       "      <td>0.0</td>\n",
       "      <td>67333.770000</td>\n",
       "      <td>0</td>\n",
       "    </tr>\n",
       "    <tr>\n",
       "      <th>3</th>\n",
       "      <td>8</td>\n",
       "      <td>2</td>\n",
       "      <td>37</td>\n",
       "      <td>0.0</td>\n",
       "      <td>195.0</td>\n",
       "      <td>195.0</td>\n",
       "      <td>0.0</td>\n",
       "      <td>0.0</td>\n",
       "      <td>0.0</td>\n",
       "      <td>0.0</td>\n",
       "      <td>...</td>\n",
       "      <td>0.0</td>\n",
       "      <td>0.0</td>\n",
       "      <td>0.0</td>\n",
       "      <td>0.0</td>\n",
       "      <td>0.0</td>\n",
       "      <td>0.0</td>\n",
       "      <td>0.0</td>\n",
       "      <td>0.0</td>\n",
       "      <td>64007.970000</td>\n",
       "      <td>0</td>\n",
       "    </tr>\n",
       "    <tr>\n",
       "      <th>4</th>\n",
       "      <td>10</td>\n",
       "      <td>2</td>\n",
       "      <td>39</td>\n",
       "      <td>0.0</td>\n",
       "      <td>0.0</td>\n",
       "      <td>0.0</td>\n",
       "      <td>0.0</td>\n",
       "      <td>0.0</td>\n",
       "      <td>0.0</td>\n",
       "      <td>0.0</td>\n",
       "      <td>...</td>\n",
       "      <td>0.0</td>\n",
       "      <td>0.0</td>\n",
       "      <td>0.0</td>\n",
       "      <td>0.0</td>\n",
       "      <td>0.0</td>\n",
       "      <td>0.0</td>\n",
       "      <td>0.0</td>\n",
       "      <td>0.0</td>\n",
       "      <td>117310.979016</td>\n",
       "      <td>0</td>\n",
       "    </tr>\n",
       "  </tbody>\n",
       "</table>\n",
       "<p>5 rows × 371 columns</p>\n",
       "</div>"
      ],
      "text/plain": [
       "   ID  var3  var15  imp_ent_var16_ult1  imp_op_var39_comer_ult1  \\\n",
       "0   1     2     23                 0.0                      0.0   \n",
       "1   3     2     34                 0.0                      0.0   \n",
       "2   4     2     23                 0.0                      0.0   \n",
       "3   8     2     37                 0.0                    195.0   \n",
       "4  10     2     39                 0.0                      0.0   \n",
       "\n",
       "   imp_op_var39_comer_ult3  imp_op_var40_comer_ult1  imp_op_var40_comer_ult3  \\\n",
       "0                      0.0                      0.0                      0.0   \n",
       "1                      0.0                      0.0                      0.0   \n",
       "2                      0.0                      0.0                      0.0   \n",
       "3                    195.0                      0.0                      0.0   \n",
       "4                      0.0                      0.0                      0.0   \n",
       "\n",
       "   imp_op_var40_efect_ult1  imp_op_var40_efect_ult3  ...  \\\n",
       "0                      0.0                      0.0  ...   \n",
       "1                      0.0                      0.0  ...   \n",
       "2                      0.0                      0.0  ...   \n",
       "3                      0.0                      0.0  ...   \n",
       "4                      0.0                      0.0  ...   \n",
       "\n",
       "   saldo_medio_var33_hace2  saldo_medio_var33_hace3  saldo_medio_var33_ult1  \\\n",
       "0                      0.0                      0.0                     0.0   \n",
       "1                      0.0                      0.0                     0.0   \n",
       "2                      0.0                      0.0                     0.0   \n",
       "3                      0.0                      0.0                     0.0   \n",
       "4                      0.0                      0.0                     0.0   \n",
       "\n",
       "   saldo_medio_var33_ult3  saldo_medio_var44_hace2  saldo_medio_var44_hace3  \\\n",
       "0                     0.0                      0.0                      0.0   \n",
       "1                     0.0                      0.0                      0.0   \n",
       "2                     0.0                      0.0                      0.0   \n",
       "3                     0.0                      0.0                      0.0   \n",
       "4                     0.0                      0.0                      0.0   \n",
       "\n",
       "   saldo_medio_var44_ult1  saldo_medio_var44_ult3          var38  TARGET  \n",
       "0                     0.0                     0.0   39205.170000       0  \n",
       "1                     0.0                     0.0   49278.030000       0  \n",
       "2                     0.0                     0.0   67333.770000       0  \n",
       "3                     0.0                     0.0   64007.970000       0  \n",
       "4                     0.0                     0.0  117310.979016       0  \n",
       "\n",
       "[5 rows x 371 columns]"
      ]
     },
     "execution_count": 4,
     "metadata": {},
     "output_type": "execute_result"
    }
   ],
   "source": [
    "# Visualizando os dados de treino\n",
    "dadosTreino.head()"
   ]
  },
  {
   "cell_type": "code",
   "execution_count": 5,
   "id": "338da01c",
   "metadata": {
    "ExecuteTime": {
     "end_time": "2021-10-05T11:43:09.109135Z",
     "start_time": "2021-10-05T11:43:06.128017Z"
    }
   },
   "outputs": [],
   "source": [
    "# Carregando os dados de teste\n",
    "dadosTeste = pd.read_csv('dataset/test.csv')"
   ]
  },
  {
   "cell_type": "code",
   "execution_count": 6,
   "id": "854d14ae",
   "metadata": {
    "ExecuteTime": {
     "end_time": "2021-10-05T11:43:09.172116Z",
     "start_time": "2021-10-05T11:43:09.114133Z"
    }
   },
   "outputs": [
    {
     "data": {
      "text/html": [
       "<div>\n",
       "<style scoped>\n",
       "    .dataframe tbody tr th:only-of-type {\n",
       "        vertical-align: middle;\n",
       "    }\n",
       "\n",
       "    .dataframe tbody tr th {\n",
       "        vertical-align: top;\n",
       "    }\n",
       "\n",
       "    .dataframe thead th {\n",
       "        text-align: right;\n",
       "    }\n",
       "</style>\n",
       "<table border=\"1\" class=\"dataframe\">\n",
       "  <thead>\n",
       "    <tr style=\"text-align: right;\">\n",
       "      <th></th>\n",
       "      <th>ID</th>\n",
       "      <th>var3</th>\n",
       "      <th>var15</th>\n",
       "      <th>imp_ent_var16_ult1</th>\n",
       "      <th>imp_op_var39_comer_ult1</th>\n",
       "      <th>imp_op_var39_comer_ult3</th>\n",
       "      <th>imp_op_var40_comer_ult1</th>\n",
       "      <th>imp_op_var40_comer_ult3</th>\n",
       "      <th>imp_op_var40_efect_ult1</th>\n",
       "      <th>imp_op_var40_efect_ult3</th>\n",
       "      <th>...</th>\n",
       "      <th>saldo_medio_var29_ult3</th>\n",
       "      <th>saldo_medio_var33_hace2</th>\n",
       "      <th>saldo_medio_var33_hace3</th>\n",
       "      <th>saldo_medio_var33_ult1</th>\n",
       "      <th>saldo_medio_var33_ult3</th>\n",
       "      <th>saldo_medio_var44_hace2</th>\n",
       "      <th>saldo_medio_var44_hace3</th>\n",
       "      <th>saldo_medio_var44_ult1</th>\n",
       "      <th>saldo_medio_var44_ult3</th>\n",
       "      <th>var38</th>\n",
       "    </tr>\n",
       "  </thead>\n",
       "  <tbody>\n",
       "    <tr>\n",
       "      <th>0</th>\n",
       "      <td>2</td>\n",
       "      <td>2</td>\n",
       "      <td>32</td>\n",
       "      <td>0.0</td>\n",
       "      <td>0.0</td>\n",
       "      <td>0.0</td>\n",
       "      <td>0.0</td>\n",
       "      <td>0.0</td>\n",
       "      <td>0.0</td>\n",
       "      <td>0.0</td>\n",
       "      <td>...</td>\n",
       "      <td>0.0</td>\n",
       "      <td>0.0</td>\n",
       "      <td>0.0</td>\n",
       "      <td>0.0</td>\n",
       "      <td>0.0</td>\n",
       "      <td>0.0</td>\n",
       "      <td>0.0</td>\n",
       "      <td>0.0</td>\n",
       "      <td>0.0</td>\n",
       "      <td>40532.10</td>\n",
       "    </tr>\n",
       "    <tr>\n",
       "      <th>1</th>\n",
       "      <td>5</td>\n",
       "      <td>2</td>\n",
       "      <td>35</td>\n",
       "      <td>0.0</td>\n",
       "      <td>0.0</td>\n",
       "      <td>0.0</td>\n",
       "      <td>0.0</td>\n",
       "      <td>0.0</td>\n",
       "      <td>0.0</td>\n",
       "      <td>0.0</td>\n",
       "      <td>...</td>\n",
       "      <td>0.0</td>\n",
       "      <td>0.0</td>\n",
       "      <td>0.0</td>\n",
       "      <td>0.0</td>\n",
       "      <td>0.0</td>\n",
       "      <td>0.0</td>\n",
       "      <td>0.0</td>\n",
       "      <td>0.0</td>\n",
       "      <td>0.0</td>\n",
       "      <td>45486.72</td>\n",
       "    </tr>\n",
       "    <tr>\n",
       "      <th>2</th>\n",
       "      <td>6</td>\n",
       "      <td>2</td>\n",
       "      <td>23</td>\n",
       "      <td>0.0</td>\n",
       "      <td>0.0</td>\n",
       "      <td>0.0</td>\n",
       "      <td>0.0</td>\n",
       "      <td>0.0</td>\n",
       "      <td>0.0</td>\n",
       "      <td>0.0</td>\n",
       "      <td>...</td>\n",
       "      <td>0.0</td>\n",
       "      <td>0.0</td>\n",
       "      <td>0.0</td>\n",
       "      <td>0.0</td>\n",
       "      <td>0.0</td>\n",
       "      <td>0.0</td>\n",
       "      <td>0.0</td>\n",
       "      <td>0.0</td>\n",
       "      <td>0.0</td>\n",
       "      <td>46993.95</td>\n",
       "    </tr>\n",
       "    <tr>\n",
       "      <th>3</th>\n",
       "      <td>7</td>\n",
       "      <td>2</td>\n",
       "      <td>24</td>\n",
       "      <td>0.0</td>\n",
       "      <td>0.0</td>\n",
       "      <td>0.0</td>\n",
       "      <td>0.0</td>\n",
       "      <td>0.0</td>\n",
       "      <td>0.0</td>\n",
       "      <td>0.0</td>\n",
       "      <td>...</td>\n",
       "      <td>0.0</td>\n",
       "      <td>0.0</td>\n",
       "      <td>0.0</td>\n",
       "      <td>0.0</td>\n",
       "      <td>0.0</td>\n",
       "      <td>0.0</td>\n",
       "      <td>0.0</td>\n",
       "      <td>0.0</td>\n",
       "      <td>0.0</td>\n",
       "      <td>187898.61</td>\n",
       "    </tr>\n",
       "    <tr>\n",
       "      <th>4</th>\n",
       "      <td>9</td>\n",
       "      <td>2</td>\n",
       "      <td>23</td>\n",
       "      <td>0.0</td>\n",
       "      <td>0.0</td>\n",
       "      <td>0.0</td>\n",
       "      <td>0.0</td>\n",
       "      <td>0.0</td>\n",
       "      <td>0.0</td>\n",
       "      <td>0.0</td>\n",
       "      <td>...</td>\n",
       "      <td>0.0</td>\n",
       "      <td>0.0</td>\n",
       "      <td>0.0</td>\n",
       "      <td>0.0</td>\n",
       "      <td>0.0</td>\n",
       "      <td>0.0</td>\n",
       "      <td>0.0</td>\n",
       "      <td>0.0</td>\n",
       "      <td>0.0</td>\n",
       "      <td>73649.73</td>\n",
       "    </tr>\n",
       "  </tbody>\n",
       "</table>\n",
       "<p>5 rows × 370 columns</p>\n",
       "</div>"
      ],
      "text/plain": [
       "   ID  var3  var15  imp_ent_var16_ult1  imp_op_var39_comer_ult1  \\\n",
       "0   2     2     32                 0.0                      0.0   \n",
       "1   5     2     35                 0.0                      0.0   \n",
       "2   6     2     23                 0.0                      0.0   \n",
       "3   7     2     24                 0.0                      0.0   \n",
       "4   9     2     23                 0.0                      0.0   \n",
       "\n",
       "   imp_op_var39_comer_ult3  imp_op_var40_comer_ult1  imp_op_var40_comer_ult3  \\\n",
       "0                      0.0                      0.0                      0.0   \n",
       "1                      0.0                      0.0                      0.0   \n",
       "2                      0.0                      0.0                      0.0   \n",
       "3                      0.0                      0.0                      0.0   \n",
       "4                      0.0                      0.0                      0.0   \n",
       "\n",
       "   imp_op_var40_efect_ult1  imp_op_var40_efect_ult3  ...  \\\n",
       "0                      0.0                      0.0  ...   \n",
       "1                      0.0                      0.0  ...   \n",
       "2                      0.0                      0.0  ...   \n",
       "3                      0.0                      0.0  ...   \n",
       "4                      0.0                      0.0  ...   \n",
       "\n",
       "   saldo_medio_var29_ult3  saldo_medio_var33_hace2  saldo_medio_var33_hace3  \\\n",
       "0                     0.0                      0.0                      0.0   \n",
       "1                     0.0                      0.0                      0.0   \n",
       "2                     0.0                      0.0                      0.0   \n",
       "3                     0.0                      0.0                      0.0   \n",
       "4                     0.0                      0.0                      0.0   \n",
       "\n",
       "   saldo_medio_var33_ult1  saldo_medio_var33_ult3  saldo_medio_var44_hace2  \\\n",
       "0                     0.0                     0.0                      0.0   \n",
       "1                     0.0                     0.0                      0.0   \n",
       "2                     0.0                     0.0                      0.0   \n",
       "3                     0.0                     0.0                      0.0   \n",
       "4                     0.0                     0.0                      0.0   \n",
       "\n",
       "   saldo_medio_var44_hace3  saldo_medio_var44_ult1  saldo_medio_var44_ult3  \\\n",
       "0                      0.0                     0.0                     0.0   \n",
       "1                      0.0                     0.0                     0.0   \n",
       "2                      0.0                     0.0                     0.0   \n",
       "3                      0.0                     0.0                     0.0   \n",
       "4                      0.0                     0.0                     0.0   \n",
       "\n",
       "       var38  \n",
       "0   40532.10  \n",
       "1   45486.72  \n",
       "2   46993.95  \n",
       "3  187898.61  \n",
       "4   73649.73  \n",
       "\n",
       "[5 rows x 370 columns]"
      ]
     },
     "execution_count": 6,
     "metadata": {},
     "output_type": "execute_result"
    }
   ],
   "source": [
    "# Visualizando os dados de teste\n",
    "dadosTeste.head()"
   ]
  },
  {
   "cell_type": "markdown",
   "id": "0c0efcd6",
   "metadata": {},
   "source": [
    "## Limpeza, Manipulação e Análise Exploratória"
   ]
  },
  {
   "cell_type": "markdown",
   "id": "6bd3e98b",
   "metadata": {},
   "source": [
    "Vamos entender os dados e organizá-los para etapa de pré-processamento."
   ]
  },
  {
   "cell_type": "markdown",
   "id": "5c24250a",
   "metadata": {
    "heading_collapsed": true
   },
   "source": [
    "### Checando os dados de treino"
   ]
  },
  {
   "cell_type": "code",
   "execution_count": 7,
   "id": "54f058c8",
   "metadata": {
    "ExecuteTime": {
     "end_time": "2021-10-05T11:43:09.188112Z",
     "start_time": "2021-10-05T11:43:09.178114Z"
    },
    "hidden": true
   },
   "outputs": [
    {
     "name": "stdout",
     "output_type": "stream",
     "text": [
      "Dimensões do dataset.\n",
      "Número de linhas: 76020\n",
      "Número de colunas: 371\n",
      "\n"
     ]
    }
   ],
   "source": [
    "# Verificando as dimensões do dataset\n",
    "show_dimensions(dadosTreino)"
   ]
  },
  {
   "cell_type": "code",
   "execution_count": 8,
   "id": "0ef6519b",
   "metadata": {
    "ExecuteTime": {
     "end_time": "2021-10-05T11:43:09.396051Z",
     "start_time": "2021-10-05T11:43:09.191110Z"
    },
    "hidden": true
   },
   "outputs": [
    {
     "name": "stdout",
     "output_type": "stream",
     "text": [
      "Series([], dtype: int64)\n"
     ]
    }
   ],
   "source": [
    "# Verificando se há valores nulos ou ausentes\n",
    "show_null_only(dadosTreino)"
   ]
  },
  {
   "cell_type": "markdown",
   "id": "3751d55f",
   "metadata": {
    "hidden": true
   },
   "source": [
    "Vemos que **não existem valores ausentes** nos dados de treino. Agora vamos checar se há valores duplicados."
   ]
  },
  {
   "cell_type": "code",
   "execution_count": 9,
   "id": "1a8be718",
   "metadata": {
    "ExecuteTime": {
     "end_time": "2021-10-05T11:43:10.587729Z",
     "start_time": "2021-10-05T11:43:09.398051Z"
    },
    "hidden": true,
    "scrolled": true
   },
   "outputs": [
    {
     "data": {
      "text/html": [
       "<div>\n",
       "<style scoped>\n",
       "    .dataframe tbody tr th:only-of-type {\n",
       "        vertical-align: middle;\n",
       "    }\n",
       "\n",
       "    .dataframe tbody tr th {\n",
       "        vertical-align: top;\n",
       "    }\n",
       "\n",
       "    .dataframe thead th {\n",
       "        text-align: right;\n",
       "    }\n",
       "</style>\n",
       "<table border=\"1\" class=\"dataframe\">\n",
       "  <thead>\n",
       "    <tr style=\"text-align: right;\">\n",
       "      <th></th>\n",
       "      <th>ID</th>\n",
       "      <th>var3</th>\n",
       "      <th>var15</th>\n",
       "      <th>imp_ent_var16_ult1</th>\n",
       "      <th>imp_op_var39_comer_ult1</th>\n",
       "      <th>imp_op_var39_comer_ult3</th>\n",
       "      <th>imp_op_var40_comer_ult1</th>\n",
       "      <th>imp_op_var40_comer_ult3</th>\n",
       "      <th>imp_op_var40_efect_ult1</th>\n",
       "      <th>imp_op_var40_efect_ult3</th>\n",
       "      <th>...</th>\n",
       "      <th>saldo_medio_var33_hace2</th>\n",
       "      <th>saldo_medio_var33_hace3</th>\n",
       "      <th>saldo_medio_var33_ult1</th>\n",
       "      <th>saldo_medio_var33_ult3</th>\n",
       "      <th>saldo_medio_var44_hace2</th>\n",
       "      <th>saldo_medio_var44_hace3</th>\n",
       "      <th>saldo_medio_var44_ult1</th>\n",
       "      <th>saldo_medio_var44_ult3</th>\n",
       "      <th>var38</th>\n",
       "      <th>TARGET</th>\n",
       "    </tr>\n",
       "  </thead>\n",
       "  <tbody>\n",
       "  </tbody>\n",
       "</table>\n",
       "<p>0 rows × 371 columns</p>\n",
       "</div>"
      ],
      "text/plain": [
       "Empty DataFrame\n",
       "Columns: [ID, var3, var15, imp_ent_var16_ult1, imp_op_var39_comer_ult1, imp_op_var39_comer_ult3, imp_op_var40_comer_ult1, imp_op_var40_comer_ult3, imp_op_var40_efect_ult1, imp_op_var40_efect_ult3, imp_op_var40_ult1, imp_op_var41_comer_ult1, imp_op_var41_comer_ult3, imp_op_var41_efect_ult1, imp_op_var41_efect_ult3, imp_op_var41_ult1, imp_op_var39_efect_ult1, imp_op_var39_efect_ult3, imp_op_var39_ult1, imp_sal_var16_ult1, ind_var1_0, ind_var1, ind_var2_0, ind_var2, ind_var5_0, ind_var5, ind_var6_0, ind_var6, ind_var8_0, ind_var8, ind_var12_0, ind_var12, ind_var13_0, ind_var13_corto_0, ind_var13_corto, ind_var13_largo_0, ind_var13_largo, ind_var13_medio_0, ind_var13_medio, ind_var13, ind_var14_0, ind_var14, ind_var17_0, ind_var17, ind_var18_0, ind_var18, ind_var19, ind_var20_0, ind_var20, ind_var24_0, ind_var24, ind_var25_cte, ind_var26_0, ind_var26_cte, ind_var26, ind_var25_0, ind_var25, ind_var27_0, ind_var28_0, ind_var28, ind_var27, ind_var29_0, ind_var29, ind_var30_0, ind_var30, ind_var31_0, ind_var31, ind_var32_cte, ind_var32_0, ind_var32, ind_var33_0, ind_var33, ind_var34_0, ind_var34, ind_var37_cte, ind_var37_0, ind_var37, ind_var39_0, ind_var40_0, ind_var40, ind_var41_0, ind_var41, ind_var39, ind_var44_0, ind_var44, ind_var46_0, ind_var46, num_var1_0, num_var1, num_var4, num_var5_0, num_var5, num_var6_0, num_var6, num_var8_0, num_var8, num_var12_0, num_var12, num_var13_0, num_var13_corto_0, ...]\n",
       "Index: []\n",
       "\n",
       "[0 rows x 371 columns]"
      ]
     },
     "execution_count": 9,
     "metadata": {},
     "output_type": "execute_result"
    }
   ],
   "source": [
    "# Verificando se há valores duplicados\n",
    "dadosTreino[dadosTreino.duplicated(keep=False)]"
   ]
  },
  {
   "cell_type": "markdown",
   "id": "2fbc9b51",
   "metadata": {
    "hidden": true
   },
   "source": [
    "À princípio, parece não existir valores duplicados, mas para termos certeza vamos analisar sem a coluna 'ID', pois a mesma não deve conter valores repetidos."
   ]
  },
  {
   "cell_type": "code",
   "execution_count": 10,
   "id": "3f82d4ba",
   "metadata": {
    "ExecuteTime": {
     "end_time": "2021-10-05T11:43:10.619687Z",
     "start_time": "2021-10-05T11:43:10.590696Z"
    },
    "hidden": true
   },
   "outputs": [
    {
     "name": "stdout",
     "output_type": "stream",
     "text": [
      "A coluna ID não possui registros repetidos.\n"
     ]
    }
   ],
   "source": [
    "# Confirmando se a coluna ID contém apenas valores únicos\n",
    "if dadosTreino['ID'].nunique() == dadosTreino.shape[0]:\n",
    "    print('A coluna ID não possui registros repetidos.')\n",
    "else:\n",
    "    print('A coluna ID possui {}.'.format(dadosTreino['ID'].duplicated().sum()))"
   ]
  },
  {
   "cell_type": "code",
   "execution_count": 11,
   "id": "2646d509",
   "metadata": {
    "ExecuteTime": {
     "end_time": "2021-10-05T11:43:10.811630Z",
     "start_time": "2021-10-05T11:43:10.623687Z"
    },
    "hidden": true
   },
   "outputs": [],
   "source": [
    "# Eliminando a coluna ID\n",
    "dfTreino = dadosTreino.drop('ID', axis = 1)"
   ]
  },
  {
   "cell_type": "code",
   "execution_count": 12,
   "id": "7ec6243c",
   "metadata": {
    "ExecuteTime": {
     "end_time": "2021-10-05T11:43:12.119247Z",
     "start_time": "2021-10-05T11:43:10.814631Z"
    },
    "hidden": true,
    "scrolled": true
   },
   "outputs": [
    {
     "data": {
      "text/html": [
       "<div>\n",
       "<style scoped>\n",
       "    .dataframe tbody tr th:only-of-type {\n",
       "        vertical-align: middle;\n",
       "    }\n",
       "\n",
       "    .dataframe tbody tr th {\n",
       "        vertical-align: top;\n",
       "    }\n",
       "\n",
       "    .dataframe thead th {\n",
       "        text-align: right;\n",
       "    }\n",
       "</style>\n",
       "<table border=\"1\" class=\"dataframe\">\n",
       "  <thead>\n",
       "    <tr style=\"text-align: right;\">\n",
       "      <th></th>\n",
       "      <th>var3</th>\n",
       "      <th>var15</th>\n",
       "      <th>imp_ent_var16_ult1</th>\n",
       "      <th>imp_op_var39_comer_ult1</th>\n",
       "      <th>imp_op_var39_comer_ult3</th>\n",
       "      <th>imp_op_var40_comer_ult1</th>\n",
       "      <th>imp_op_var40_comer_ult3</th>\n",
       "      <th>imp_op_var40_efect_ult1</th>\n",
       "      <th>imp_op_var40_efect_ult3</th>\n",
       "      <th>imp_op_var40_ult1</th>\n",
       "      <th>...</th>\n",
       "      <th>saldo_medio_var33_hace2</th>\n",
       "      <th>saldo_medio_var33_hace3</th>\n",
       "      <th>saldo_medio_var33_ult1</th>\n",
       "      <th>saldo_medio_var33_ult3</th>\n",
       "      <th>saldo_medio_var44_hace2</th>\n",
       "      <th>saldo_medio_var44_hace3</th>\n",
       "      <th>saldo_medio_var44_ult1</th>\n",
       "      <th>saldo_medio_var44_ult3</th>\n",
       "      <th>var38</th>\n",
       "      <th>TARGET</th>\n",
       "    </tr>\n",
       "  </thead>\n",
       "  <tbody>\n",
       "    <tr>\n",
       "      <th>146</th>\n",
       "      <td>2</td>\n",
       "      <td>23</td>\n",
       "      <td>0.0</td>\n",
       "      <td>0.0</td>\n",
       "      <td>0.0</td>\n",
       "      <td>0.0</td>\n",
       "      <td>0.0</td>\n",
       "      <td>0.0</td>\n",
       "      <td>0.0</td>\n",
       "      <td>0.0</td>\n",
       "      <td>...</td>\n",
       "      <td>0.0</td>\n",
       "      <td>0.0</td>\n",
       "      <td>0.0</td>\n",
       "      <td>0.0</td>\n",
       "      <td>0.0</td>\n",
       "      <td>0.0</td>\n",
       "      <td>0.0</td>\n",
       "      <td>0.0</td>\n",
       "      <td>117310.979016</td>\n",
       "      <td>0</td>\n",
       "    </tr>\n",
       "    <tr>\n",
       "      <th>178</th>\n",
       "      <td>2</td>\n",
       "      <td>23</td>\n",
       "      <td>0.0</td>\n",
       "      <td>0.0</td>\n",
       "      <td>0.0</td>\n",
       "      <td>0.0</td>\n",
       "      <td>0.0</td>\n",
       "      <td>0.0</td>\n",
       "      <td>0.0</td>\n",
       "      <td>0.0</td>\n",
       "      <td>...</td>\n",
       "      <td>0.0</td>\n",
       "      <td>0.0</td>\n",
       "      <td>0.0</td>\n",
       "      <td>0.0</td>\n",
       "      <td>0.0</td>\n",
       "      <td>0.0</td>\n",
       "      <td>0.0</td>\n",
       "      <td>0.0</td>\n",
       "      <td>117310.979016</td>\n",
       "      <td>0</td>\n",
       "    </tr>\n",
       "    <tr>\n",
       "      <th>224</th>\n",
       "      <td>2</td>\n",
       "      <td>23</td>\n",
       "      <td>0.0</td>\n",
       "      <td>0.0</td>\n",
       "      <td>0.0</td>\n",
       "      <td>0.0</td>\n",
       "      <td>0.0</td>\n",
       "      <td>0.0</td>\n",
       "      <td>0.0</td>\n",
       "      <td>0.0</td>\n",
       "      <td>...</td>\n",
       "      <td>0.0</td>\n",
       "      <td>0.0</td>\n",
       "      <td>0.0</td>\n",
       "      <td>0.0</td>\n",
       "      <td>0.0</td>\n",
       "      <td>0.0</td>\n",
       "      <td>0.0</td>\n",
       "      <td>0.0</td>\n",
       "      <td>117310.979016</td>\n",
       "      <td>0</td>\n",
       "    </tr>\n",
       "    <tr>\n",
       "      <th>244</th>\n",
       "      <td>2</td>\n",
       "      <td>23</td>\n",
       "      <td>0.0</td>\n",
       "      <td>0.0</td>\n",
       "      <td>0.0</td>\n",
       "      <td>0.0</td>\n",
       "      <td>0.0</td>\n",
       "      <td>0.0</td>\n",
       "      <td>0.0</td>\n",
       "      <td>0.0</td>\n",
       "      <td>...</td>\n",
       "      <td>0.0</td>\n",
       "      <td>0.0</td>\n",
       "      <td>0.0</td>\n",
       "      <td>0.0</td>\n",
       "      <td>0.0</td>\n",
       "      <td>0.0</td>\n",
       "      <td>0.0</td>\n",
       "      <td>0.0</td>\n",
       "      <td>117310.979016</td>\n",
       "      <td>0</td>\n",
       "    </tr>\n",
       "    <tr>\n",
       "      <th>375</th>\n",
       "      <td>2</td>\n",
       "      <td>23</td>\n",
       "      <td>0.0</td>\n",
       "      <td>0.0</td>\n",
       "      <td>0.0</td>\n",
       "      <td>0.0</td>\n",
       "      <td>0.0</td>\n",
       "      <td>0.0</td>\n",
       "      <td>0.0</td>\n",
       "      <td>0.0</td>\n",
       "      <td>...</td>\n",
       "      <td>0.0</td>\n",
       "      <td>0.0</td>\n",
       "      <td>0.0</td>\n",
       "      <td>0.0</td>\n",
       "      <td>0.0</td>\n",
       "      <td>0.0</td>\n",
       "      <td>0.0</td>\n",
       "      <td>0.0</td>\n",
       "      <td>117310.979016</td>\n",
       "      <td>0</td>\n",
       "    </tr>\n",
       "    <tr>\n",
       "      <th>...</th>\n",
       "      <td>...</td>\n",
       "      <td>...</td>\n",
       "      <td>...</td>\n",
       "      <td>...</td>\n",
       "      <td>...</td>\n",
       "      <td>...</td>\n",
       "      <td>...</td>\n",
       "      <td>...</td>\n",
       "      <td>...</td>\n",
       "      <td>...</td>\n",
       "      <td>...</td>\n",
       "      <td>...</td>\n",
       "      <td>...</td>\n",
       "      <td>...</td>\n",
       "      <td>...</td>\n",
       "      <td>...</td>\n",
       "      <td>...</td>\n",
       "      <td>...</td>\n",
       "      <td>...</td>\n",
       "      <td>...</td>\n",
       "      <td>...</td>\n",
       "    </tr>\n",
       "    <tr>\n",
       "      <th>75949</th>\n",
       "      <td>2</td>\n",
       "      <td>72</td>\n",
       "      <td>0.0</td>\n",
       "      <td>0.0</td>\n",
       "      <td>0.0</td>\n",
       "      <td>0.0</td>\n",
       "      <td>0.0</td>\n",
       "      <td>0.0</td>\n",
       "      <td>0.0</td>\n",
       "      <td>0.0</td>\n",
       "      <td>...</td>\n",
       "      <td>0.0</td>\n",
       "      <td>0.0</td>\n",
       "      <td>0.0</td>\n",
       "      <td>0.0</td>\n",
       "      <td>0.0</td>\n",
       "      <td>0.0</td>\n",
       "      <td>0.0</td>\n",
       "      <td>0.0</td>\n",
       "      <td>117310.979016</td>\n",
       "      <td>0</td>\n",
       "    </tr>\n",
       "    <tr>\n",
       "      <th>75955</th>\n",
       "      <td>2</td>\n",
       "      <td>23</td>\n",
       "      <td>0.0</td>\n",
       "      <td>0.0</td>\n",
       "      <td>0.0</td>\n",
       "      <td>0.0</td>\n",
       "      <td>0.0</td>\n",
       "      <td>0.0</td>\n",
       "      <td>0.0</td>\n",
       "      <td>0.0</td>\n",
       "      <td>...</td>\n",
       "      <td>0.0</td>\n",
       "      <td>0.0</td>\n",
       "      <td>0.0</td>\n",
       "      <td>0.0</td>\n",
       "      <td>0.0</td>\n",
       "      <td>0.0</td>\n",
       "      <td>0.0</td>\n",
       "      <td>0.0</td>\n",
       "      <td>117310.979016</td>\n",
       "      <td>0</td>\n",
       "    </tr>\n",
       "    <tr>\n",
       "      <th>75958</th>\n",
       "      <td>2</td>\n",
       "      <td>36</td>\n",
       "      <td>0.0</td>\n",
       "      <td>0.0</td>\n",
       "      <td>0.0</td>\n",
       "      <td>0.0</td>\n",
       "      <td>0.0</td>\n",
       "      <td>0.0</td>\n",
       "      <td>0.0</td>\n",
       "      <td>0.0</td>\n",
       "      <td>...</td>\n",
       "      <td>0.0</td>\n",
       "      <td>0.0</td>\n",
       "      <td>0.0</td>\n",
       "      <td>0.0</td>\n",
       "      <td>0.0</td>\n",
       "      <td>0.0</td>\n",
       "      <td>0.0</td>\n",
       "      <td>0.0</td>\n",
       "      <td>117310.979016</td>\n",
       "      <td>0</td>\n",
       "    </tr>\n",
       "    <tr>\n",
       "      <th>75996</th>\n",
       "      <td>2</td>\n",
       "      <td>30</td>\n",
       "      <td>0.0</td>\n",
       "      <td>0.0</td>\n",
       "      <td>0.0</td>\n",
       "      <td>0.0</td>\n",
       "      <td>0.0</td>\n",
       "      <td>0.0</td>\n",
       "      <td>0.0</td>\n",
       "      <td>0.0</td>\n",
       "      <td>...</td>\n",
       "      <td>0.0</td>\n",
       "      <td>0.0</td>\n",
       "      <td>0.0</td>\n",
       "      <td>0.0</td>\n",
       "      <td>0.0</td>\n",
       "      <td>0.0</td>\n",
       "      <td>0.0</td>\n",
       "      <td>0.0</td>\n",
       "      <td>117310.979016</td>\n",
       "      <td>0</td>\n",
       "    </tr>\n",
       "    <tr>\n",
       "      <th>76019</th>\n",
       "      <td>2</td>\n",
       "      <td>46</td>\n",
       "      <td>0.0</td>\n",
       "      <td>0.0</td>\n",
       "      <td>0.0</td>\n",
       "      <td>0.0</td>\n",
       "      <td>0.0</td>\n",
       "      <td>0.0</td>\n",
       "      <td>0.0</td>\n",
       "      <td>0.0</td>\n",
       "      <td>...</td>\n",
       "      <td>0.0</td>\n",
       "      <td>0.0</td>\n",
       "      <td>0.0</td>\n",
       "      <td>0.0</td>\n",
       "      <td>0.0</td>\n",
       "      <td>0.0</td>\n",
       "      <td>0.0</td>\n",
       "      <td>0.0</td>\n",
       "      <td>117310.979016</td>\n",
       "      <td>0</td>\n",
       "    </tr>\n",
       "  </tbody>\n",
       "</table>\n",
       "<p>4807 rows × 370 columns</p>\n",
       "</div>"
      ],
      "text/plain": [
       "       var3  var15  imp_ent_var16_ult1  imp_op_var39_comer_ult1  \\\n",
       "146       2     23                 0.0                      0.0   \n",
       "178       2     23                 0.0                      0.0   \n",
       "224       2     23                 0.0                      0.0   \n",
       "244       2     23                 0.0                      0.0   \n",
       "375       2     23                 0.0                      0.0   \n",
       "...     ...    ...                 ...                      ...   \n",
       "75949     2     72                 0.0                      0.0   \n",
       "75955     2     23                 0.0                      0.0   \n",
       "75958     2     36                 0.0                      0.0   \n",
       "75996     2     30                 0.0                      0.0   \n",
       "76019     2     46                 0.0                      0.0   \n",
       "\n",
       "       imp_op_var39_comer_ult3  imp_op_var40_comer_ult1  \\\n",
       "146                        0.0                      0.0   \n",
       "178                        0.0                      0.0   \n",
       "224                        0.0                      0.0   \n",
       "244                        0.0                      0.0   \n",
       "375                        0.0                      0.0   \n",
       "...                        ...                      ...   \n",
       "75949                      0.0                      0.0   \n",
       "75955                      0.0                      0.0   \n",
       "75958                      0.0                      0.0   \n",
       "75996                      0.0                      0.0   \n",
       "76019                      0.0                      0.0   \n",
       "\n",
       "       imp_op_var40_comer_ult3  imp_op_var40_efect_ult1  \\\n",
       "146                        0.0                      0.0   \n",
       "178                        0.0                      0.0   \n",
       "224                        0.0                      0.0   \n",
       "244                        0.0                      0.0   \n",
       "375                        0.0                      0.0   \n",
       "...                        ...                      ...   \n",
       "75949                      0.0                      0.0   \n",
       "75955                      0.0                      0.0   \n",
       "75958                      0.0                      0.0   \n",
       "75996                      0.0                      0.0   \n",
       "76019                      0.0                      0.0   \n",
       "\n",
       "       imp_op_var40_efect_ult3  imp_op_var40_ult1  ...  \\\n",
       "146                        0.0                0.0  ...   \n",
       "178                        0.0                0.0  ...   \n",
       "224                        0.0                0.0  ...   \n",
       "244                        0.0                0.0  ...   \n",
       "375                        0.0                0.0  ...   \n",
       "...                        ...                ...  ...   \n",
       "75949                      0.0                0.0  ...   \n",
       "75955                      0.0                0.0  ...   \n",
       "75958                      0.0                0.0  ...   \n",
       "75996                      0.0                0.0  ...   \n",
       "76019                      0.0                0.0  ...   \n",
       "\n",
       "       saldo_medio_var33_hace2  saldo_medio_var33_hace3  \\\n",
       "146                        0.0                      0.0   \n",
       "178                        0.0                      0.0   \n",
       "224                        0.0                      0.0   \n",
       "244                        0.0                      0.0   \n",
       "375                        0.0                      0.0   \n",
       "...                        ...                      ...   \n",
       "75949                      0.0                      0.0   \n",
       "75955                      0.0                      0.0   \n",
       "75958                      0.0                      0.0   \n",
       "75996                      0.0                      0.0   \n",
       "76019                      0.0                      0.0   \n",
       "\n",
       "       saldo_medio_var33_ult1  saldo_medio_var33_ult3  \\\n",
       "146                       0.0                     0.0   \n",
       "178                       0.0                     0.0   \n",
       "224                       0.0                     0.0   \n",
       "244                       0.0                     0.0   \n",
       "375                       0.0                     0.0   \n",
       "...                       ...                     ...   \n",
       "75949                     0.0                     0.0   \n",
       "75955                     0.0                     0.0   \n",
       "75958                     0.0                     0.0   \n",
       "75996                     0.0                     0.0   \n",
       "76019                     0.0                     0.0   \n",
       "\n",
       "       saldo_medio_var44_hace2  saldo_medio_var44_hace3  \\\n",
       "146                        0.0                      0.0   \n",
       "178                        0.0                      0.0   \n",
       "224                        0.0                      0.0   \n",
       "244                        0.0                      0.0   \n",
       "375                        0.0                      0.0   \n",
       "...                        ...                      ...   \n",
       "75949                      0.0                      0.0   \n",
       "75955                      0.0                      0.0   \n",
       "75958                      0.0                      0.0   \n",
       "75996                      0.0                      0.0   \n",
       "76019                      0.0                      0.0   \n",
       "\n",
       "       saldo_medio_var44_ult1  saldo_medio_var44_ult3          var38  TARGET  \n",
       "146                       0.0                     0.0  117310.979016       0  \n",
       "178                       0.0                     0.0  117310.979016       0  \n",
       "224                       0.0                     0.0  117310.979016       0  \n",
       "244                       0.0                     0.0  117310.979016       0  \n",
       "375                       0.0                     0.0  117310.979016       0  \n",
       "...                       ...                     ...            ...     ...  \n",
       "75949                     0.0                     0.0  117310.979016       0  \n",
       "75955                     0.0                     0.0  117310.979016       0  \n",
       "75958                     0.0                     0.0  117310.979016       0  \n",
       "75996                     0.0                     0.0  117310.979016       0  \n",
       "76019                     0.0                     0.0  117310.979016       0  \n",
       "\n",
       "[4807 rows x 370 columns]"
      ]
     },
     "execution_count": 12,
     "metadata": {},
     "output_type": "execute_result"
    }
   ],
   "source": [
    "# Checando novamente se existem valores duplicados sem a coluna ID.\n",
    "dfTreino[dfTreino.duplicated()]"
   ]
  },
  {
   "cell_type": "code",
   "execution_count": 13,
   "id": "cb916fc2",
   "metadata": {
    "ExecuteTime": {
     "end_time": "2021-10-05T11:43:13.221917Z",
     "start_time": "2021-10-05T11:43:12.122242Z"
    },
    "hidden": true
   },
   "outputs": [
    {
     "data": {
      "text/plain": [
       "4807"
      ]
     },
     "execution_count": 13,
     "metadata": {},
     "output_type": "execute_result"
    }
   ],
   "source": [
    "dfTreino.duplicated().sum()"
   ]
  },
  {
   "cell_type": "markdown",
   "id": "a1680034",
   "metadata": {
    "hidden": true
   },
   "source": [
    "Vimos que existem **4807 registros duplicados**. Com isso iremos considerar que esses dados foram replicados por algum motivo, mas não deveriam existir. Portanto, vamos remover os valores duplicados."
   ]
  },
  {
   "cell_type": "code",
   "execution_count": 14,
   "id": "cb9986cf",
   "metadata": {
    "ExecuteTime": {
     "end_time": "2021-10-05T11:43:14.816444Z",
     "start_time": "2021-10-05T11:43:13.228915Z"
    },
    "hidden": true
   },
   "outputs": [
    {
     "data": {
      "text/html": [
       "<div>\n",
       "<style scoped>\n",
       "    .dataframe tbody tr th:only-of-type {\n",
       "        vertical-align: middle;\n",
       "    }\n",
       "\n",
       "    .dataframe tbody tr th {\n",
       "        vertical-align: top;\n",
       "    }\n",
       "\n",
       "    .dataframe thead th {\n",
       "        text-align: right;\n",
       "    }\n",
       "</style>\n",
       "<table border=\"1\" class=\"dataframe\">\n",
       "  <thead>\n",
       "    <tr style=\"text-align: right;\">\n",
       "      <th></th>\n",
       "      <th>var3</th>\n",
       "      <th>var15</th>\n",
       "      <th>imp_ent_var16_ult1</th>\n",
       "      <th>imp_op_var39_comer_ult1</th>\n",
       "      <th>imp_op_var39_comer_ult3</th>\n",
       "      <th>imp_op_var40_comer_ult1</th>\n",
       "      <th>imp_op_var40_comer_ult3</th>\n",
       "      <th>imp_op_var40_efect_ult1</th>\n",
       "      <th>imp_op_var40_efect_ult3</th>\n",
       "      <th>imp_op_var40_ult1</th>\n",
       "      <th>...</th>\n",
       "      <th>saldo_medio_var33_hace2</th>\n",
       "      <th>saldo_medio_var33_hace3</th>\n",
       "      <th>saldo_medio_var33_ult1</th>\n",
       "      <th>saldo_medio_var33_ult3</th>\n",
       "      <th>saldo_medio_var44_hace2</th>\n",
       "      <th>saldo_medio_var44_hace3</th>\n",
       "      <th>saldo_medio_var44_ult1</th>\n",
       "      <th>saldo_medio_var44_ult3</th>\n",
       "      <th>var38</th>\n",
       "      <th>TARGET</th>\n",
       "    </tr>\n",
       "  </thead>\n",
       "  <tbody>\n",
       "    <tr>\n",
       "      <th>0</th>\n",
       "      <td>2</td>\n",
       "      <td>23</td>\n",
       "      <td>0.0</td>\n",
       "      <td>0.0</td>\n",
       "      <td>0.0</td>\n",
       "      <td>0.0</td>\n",
       "      <td>0.0</td>\n",
       "      <td>0.0</td>\n",
       "      <td>0.0</td>\n",
       "      <td>0.0</td>\n",
       "      <td>...</td>\n",
       "      <td>0.0</td>\n",
       "      <td>0.0</td>\n",
       "      <td>0.0</td>\n",
       "      <td>0.0</td>\n",
       "      <td>0.0</td>\n",
       "      <td>0.0</td>\n",
       "      <td>0.0</td>\n",
       "      <td>0.0</td>\n",
       "      <td>39205.170000</td>\n",
       "      <td>0</td>\n",
       "    </tr>\n",
       "    <tr>\n",
       "      <th>1</th>\n",
       "      <td>2</td>\n",
       "      <td>34</td>\n",
       "      <td>0.0</td>\n",
       "      <td>0.0</td>\n",
       "      <td>0.0</td>\n",
       "      <td>0.0</td>\n",
       "      <td>0.0</td>\n",
       "      <td>0.0</td>\n",
       "      <td>0.0</td>\n",
       "      <td>0.0</td>\n",
       "      <td>...</td>\n",
       "      <td>0.0</td>\n",
       "      <td>0.0</td>\n",
       "      <td>0.0</td>\n",
       "      <td>0.0</td>\n",
       "      <td>0.0</td>\n",
       "      <td>0.0</td>\n",
       "      <td>0.0</td>\n",
       "      <td>0.0</td>\n",
       "      <td>49278.030000</td>\n",
       "      <td>0</td>\n",
       "    </tr>\n",
       "    <tr>\n",
       "      <th>2</th>\n",
       "      <td>2</td>\n",
       "      <td>23</td>\n",
       "      <td>0.0</td>\n",
       "      <td>0.0</td>\n",
       "      <td>0.0</td>\n",
       "      <td>0.0</td>\n",
       "      <td>0.0</td>\n",
       "      <td>0.0</td>\n",
       "      <td>0.0</td>\n",
       "      <td>0.0</td>\n",
       "      <td>...</td>\n",
       "      <td>0.0</td>\n",
       "      <td>0.0</td>\n",
       "      <td>0.0</td>\n",
       "      <td>0.0</td>\n",
       "      <td>0.0</td>\n",
       "      <td>0.0</td>\n",
       "      <td>0.0</td>\n",
       "      <td>0.0</td>\n",
       "      <td>67333.770000</td>\n",
       "      <td>0</td>\n",
       "    </tr>\n",
       "    <tr>\n",
       "      <th>3</th>\n",
       "      <td>2</td>\n",
       "      <td>37</td>\n",
       "      <td>0.0</td>\n",
       "      <td>195.0</td>\n",
       "      <td>195.0</td>\n",
       "      <td>0.0</td>\n",
       "      <td>0.0</td>\n",
       "      <td>0.0</td>\n",
       "      <td>0.0</td>\n",
       "      <td>0.0</td>\n",
       "      <td>...</td>\n",
       "      <td>0.0</td>\n",
       "      <td>0.0</td>\n",
       "      <td>0.0</td>\n",
       "      <td>0.0</td>\n",
       "      <td>0.0</td>\n",
       "      <td>0.0</td>\n",
       "      <td>0.0</td>\n",
       "      <td>0.0</td>\n",
       "      <td>64007.970000</td>\n",
       "      <td>0</td>\n",
       "    </tr>\n",
       "    <tr>\n",
       "      <th>4</th>\n",
       "      <td>2</td>\n",
       "      <td>39</td>\n",
       "      <td>0.0</td>\n",
       "      <td>0.0</td>\n",
       "      <td>0.0</td>\n",
       "      <td>0.0</td>\n",
       "      <td>0.0</td>\n",
       "      <td>0.0</td>\n",
       "      <td>0.0</td>\n",
       "      <td>0.0</td>\n",
       "      <td>...</td>\n",
       "      <td>0.0</td>\n",
       "      <td>0.0</td>\n",
       "      <td>0.0</td>\n",
       "      <td>0.0</td>\n",
       "      <td>0.0</td>\n",
       "      <td>0.0</td>\n",
       "      <td>0.0</td>\n",
       "      <td>0.0</td>\n",
       "      <td>117310.979016</td>\n",
       "      <td>0</td>\n",
       "    </tr>\n",
       "  </tbody>\n",
       "</table>\n",
       "<p>5 rows × 370 columns</p>\n",
       "</div>"
      ],
      "text/plain": [
       "   var3  var15  imp_ent_var16_ult1  imp_op_var39_comer_ult1  \\\n",
       "0     2     23                 0.0                      0.0   \n",
       "1     2     34                 0.0                      0.0   \n",
       "2     2     23                 0.0                      0.0   \n",
       "3     2     37                 0.0                    195.0   \n",
       "4     2     39                 0.0                      0.0   \n",
       "\n",
       "   imp_op_var39_comer_ult3  imp_op_var40_comer_ult1  imp_op_var40_comer_ult3  \\\n",
       "0                      0.0                      0.0                      0.0   \n",
       "1                      0.0                      0.0                      0.0   \n",
       "2                      0.0                      0.0                      0.0   \n",
       "3                    195.0                      0.0                      0.0   \n",
       "4                      0.0                      0.0                      0.0   \n",
       "\n",
       "   imp_op_var40_efect_ult1  imp_op_var40_efect_ult3  imp_op_var40_ult1  ...  \\\n",
       "0                      0.0                      0.0                0.0  ...   \n",
       "1                      0.0                      0.0                0.0  ...   \n",
       "2                      0.0                      0.0                0.0  ...   \n",
       "3                      0.0                      0.0                0.0  ...   \n",
       "4                      0.0                      0.0                0.0  ...   \n",
       "\n",
       "   saldo_medio_var33_hace2  saldo_medio_var33_hace3  saldo_medio_var33_ult1  \\\n",
       "0                      0.0                      0.0                     0.0   \n",
       "1                      0.0                      0.0                     0.0   \n",
       "2                      0.0                      0.0                     0.0   \n",
       "3                      0.0                      0.0                     0.0   \n",
       "4                      0.0                      0.0                     0.0   \n",
       "\n",
       "   saldo_medio_var33_ult3  saldo_medio_var44_hace2  saldo_medio_var44_hace3  \\\n",
       "0                     0.0                      0.0                      0.0   \n",
       "1                     0.0                      0.0                      0.0   \n",
       "2                     0.0                      0.0                      0.0   \n",
       "3                     0.0                      0.0                      0.0   \n",
       "4                     0.0                      0.0                      0.0   \n",
       "\n",
       "   saldo_medio_var44_ult1  saldo_medio_var44_ult3          var38  TARGET  \n",
       "0                     0.0                     0.0   39205.170000       0  \n",
       "1                     0.0                     0.0   49278.030000       0  \n",
       "2                     0.0                     0.0   67333.770000       0  \n",
       "3                     0.0                     0.0   64007.970000       0  \n",
       "4                     0.0                     0.0  117310.979016       0  \n",
       "\n",
       "[5 rows x 370 columns]"
      ]
     },
     "execution_count": 14,
     "metadata": {},
     "output_type": "execute_result"
    }
   ],
   "source": [
    "# Removendo valores duplicados\n",
    "dfTreino = dfTreino.drop_duplicates().reset_index(drop=True)\n",
    "dfTreino.head()"
   ]
  },
  {
   "cell_type": "code",
   "execution_count": 15,
   "id": "5e1820c4",
   "metadata": {
    "ExecuteTime": {
     "end_time": "2021-10-05T11:43:14.832440Z",
     "start_time": "2021-10-05T11:43:14.819444Z"
    },
    "hidden": true,
    "scrolled": true
   },
   "outputs": [
    {
     "name": "stdout",
     "output_type": "stream",
     "text": [
      "Dimensões do dataset.\n",
      "Número de linhas: 71213\n",
      "Número de colunas: 370\n",
      "\n"
     ]
    }
   ],
   "source": [
    "# Conferindo as dimensões do dataset\n",
    "show_dimensions(dfTreino)"
   ]
  },
  {
   "cell_type": "markdown",
   "id": "2061d1ff",
   "metadata": {
    "hidden": true
   },
   "source": [
    "O dataset continha 76020 linhas e com a remoção das linhas duplicadas passou a ter **71213 linhas**."
   ]
  },
  {
   "cell_type": "code",
   "execution_count": 16,
   "id": "185cca80",
   "metadata": {
    "ExecuteTime": {
     "end_time": "2021-10-05T11:43:14.864432Z",
     "start_time": "2021-10-05T11:43:14.838439Z"
    },
    "hidden": true
   },
   "outputs": [
    {
     "data": {
      "text/plain": [
       "var3                         int64\n",
       "var15                        int64\n",
       "imp_ent_var16_ult1         float64\n",
       "imp_op_var39_comer_ult1    float64\n",
       "imp_op_var39_comer_ult3    float64\n",
       "                            ...   \n",
       "saldo_medio_var44_hace3    float64\n",
       "saldo_medio_var44_ult1     float64\n",
       "saldo_medio_var44_ult3     float64\n",
       "var38                      float64\n",
       "TARGET                       int64\n",
       "Length: 370, dtype: object"
      ]
     },
     "execution_count": 16,
     "metadata": {},
     "output_type": "execute_result"
    }
   ],
   "source": [
    "# Verificando o tipo dos dados\n",
    "dfTreino.dtypes"
   ]
  },
  {
   "cell_type": "code",
   "execution_count": 17,
   "id": "abd47eaf",
   "metadata": {
    "ExecuteTime": {
     "end_time": "2021-10-05T11:43:14.959403Z",
     "start_time": "2021-10-05T11:43:14.867430Z"
    },
    "hidden": true
   },
   "outputs": [
    {
     "name": "stdout",
     "output_type": "stream",
     "text": [
      "<class 'pandas.core.frame.DataFrame'>\n",
      "RangeIndex: 71213 entries, 0 to 71212\n",
      "Columns: 370 entries, var3 to TARGET\n",
      "dtypes: float64(111), int64(259)\n",
      "memory usage: 201.0 MB\n"
     ]
    }
   ],
   "source": [
    "dfTreino.info()"
   ]
  },
  {
   "cell_type": "markdown",
   "id": "64d5bdde",
   "metadata": {
    "hidden": true
   },
   "source": [
    "Podemos observar acima que todos os valores do dataset de treino são números."
   ]
  },
  {
   "cell_type": "markdown",
   "id": "d014bfdf",
   "metadata": {},
   "source": [
    "### Seleção de variáveis"
   ]
  },
  {
   "cell_type": "markdown",
   "id": "7abd86f4",
   "metadata": {},
   "source": [
    "O dataset contém 370 colunas além da variável target, ou seja, possui um número grande de variáveis. Com isso, pode haver inúmeras variáveis desnecessárias ou que não agregam muito para o treinamento do modelo.\n",
    "\n",
    "Portanto, vamos selecionar as melhores variáveis para o modelo iniciando pelo **Métodos Básicos de Filtro**."
   ]
  },
  {
   "cell_type": "markdown",
   "id": "08adc285",
   "metadata": {
    "heading_collapsed": true
   },
   "source": [
    "#### Eliminando as *Constant Features*\n",
    "\n",
    "As Variáveis Constantes são as variáveis que contém o mesmo valor em todo dataset, onde a variância é zero. Assim, elas não fornecem nenhuma informação preditiva da variável de saída. "
   ]
  },
  {
   "cell_type": "code",
   "execution_count": 18,
   "id": "60d2506b",
   "metadata": {
    "ExecuteTime": {
     "end_time": "2021-10-05T11:43:15.515263Z",
     "start_time": "2021-10-05T11:43:14.970399Z"
    },
    "hidden": true
   },
   "outputs": [],
   "source": [
    "# Separando o dataset em dados de treino e teste (validação)\n",
    "X = dfTreino.drop(labels=['TARGET'], axis=1)\n",
    "y = dfTreino['TARGET']\n",
    "X_train, X_valid, y_train, y_valid = train_test_split(X, y, test_size=0.3, random_state=0)"
   ]
  },
  {
   "cell_type": "code",
   "execution_count": 19,
   "id": "6a1a9a48",
   "metadata": {
    "ExecuteTime": {
     "end_time": "2021-10-05T11:43:15.643201Z",
     "start_time": "2021-10-05T11:43:15.521240Z"
    },
    "hidden": true
   },
   "outputs": [
    {
     "data": {
      "text/plain": [
       "39"
      ]
     },
     "execution_count": 19,
     "metadata": {},
     "output_type": "execute_result"
    }
   ],
   "source": [
    "# Verificando a quantidade de variáveis constantes\n",
    "var_constante = [var for var in X_train.columns if X_train[var].std() == 0]\n",
    "len(var_constante)"
   ]
  },
  {
   "cell_type": "markdown",
   "id": "72da59ca",
   "metadata": {
    "hidden": true
   },
   "source": [
    "Temos **39 variáveis constantes**, logo, vamos excluí-las."
   ]
  },
  {
   "cell_type": "code",
   "execution_count": 20,
   "id": "c6fa98f9",
   "metadata": {
    "ExecuteTime": {
     "end_time": "2021-10-05T11:43:15.803180Z",
     "start_time": "2021-10-05T11:43:15.646199Z"
    },
    "hidden": true
   },
   "outputs": [
    {
     "name": "stdout",
     "output_type": "stream",
     "text": [
      "(49849, 330) (21364, 330)\n"
     ]
    }
   ],
   "source": [
    "X_train.drop(labels=var_constante, axis=1, inplace=True)\n",
    "X_valid.drop(labels=var_constante, axis=1, inplace=True)\n",
    "print(X_train.shape, X_valid.shape)"
   ]
  },
  {
   "cell_type": "markdown",
   "id": "540792c4",
   "metadata": {
    "heading_collapsed": true
   },
   "source": [
    "#### Eliminando as *Quasi-Constant Features*\n",
    "\n",
    "As Variáveis Quase-Constantes são as variáveis que contém em sua maioria o mesmo valor em todo dataset, onde a variância é próxima a zero. Assim, elas também não fornecem nenhuma informação preditiva da variável de saída.\n",
    "\n",
    "Abaixo, vamos considerar como variável quase constante a variável que apresentar 99% dos dados com mesmo valor e posteriormente excluí-las."
   ]
  },
  {
   "cell_type": "code",
   "execution_count": 21,
   "id": "4d13b262",
   "metadata": {
    "ExecuteTime": {
     "end_time": "2021-10-05T11:43:16.249022Z",
     "start_time": "2021-10-05T11:43:15.806152Z"
    },
    "hidden": true
   },
   "outputs": [
    {
     "data": {
      "text/plain": [
       "VarianceThreshold(threshold=0.01)"
      ]
     },
     "execution_count": 21,
     "metadata": {},
     "output_type": "execute_result"
    }
   ],
   "source": [
    "# Aplicando Variance Threshold para identificar baixa variância\n",
    "var_thres = VarianceThreshold(threshold=0.01)\n",
    "var_thres.fit(X_train)"
   ]
  },
  {
   "cell_type": "code",
   "execution_count": 22,
   "id": "25a0f16e",
   "metadata": {
    "ExecuteTime": {
     "end_time": "2021-10-05T11:43:16.264015Z",
     "start_time": "2021-10-05T11:43:16.252020Z"
    },
    "hidden": true
   },
   "outputs": [
    {
     "data": {
      "text/plain": [
       "268"
      ]
     },
     "execution_count": 22,
     "metadata": {},
     "output_type": "execute_result"
    }
   ],
   "source": [
    "# Verificando a quantidade das variáveis que NÃO são quase constantes\n",
    "aux = var_thres.get_support()\n",
    "sum(aux)"
   ]
  },
  {
   "cell_type": "markdown",
   "id": "4eeed793",
   "metadata": {
    "hidden": true
   },
   "source": [
    "São 268 variáveis que NÃO são quase constantes em um total de 330 variáveis. Logo, temos **62 variáveis quase constantes**."
   ]
  },
  {
   "cell_type": "code",
   "execution_count": 23,
   "id": "53136ade",
   "metadata": {
    "ExecuteTime": {
     "end_time": "2021-10-05T11:43:16.312004Z",
     "start_time": "2021-10-05T11:43:16.267015Z"
    },
    "hidden": true
   },
   "outputs": [
    {
     "data": {
      "text/plain": [
       "62"
      ]
     },
     "execution_count": 23,
     "metadata": {},
     "output_type": "execute_result"
    }
   ],
   "source": [
    "# Selecionando as variáveis quase constantes\n",
    "var_quase_constante = [var for var in X_train.columns if var not in X_train.columns[aux]]\n",
    "len(var_quase_constante)"
   ]
  },
  {
   "cell_type": "code",
   "execution_count": 24,
   "id": "89b29af3",
   "metadata": {
    "ExecuteTime": {
     "end_time": "2021-10-05T11:43:16.439964Z",
     "start_time": "2021-10-05T11:43:16.315001Z"
    },
    "hidden": true
   },
   "outputs": [
    {
     "name": "stdout",
     "output_type": "stream",
     "text": [
      "(49849, 268) (21364, 268)\n"
     ]
    }
   ],
   "source": [
    "X_train.drop(labels=var_quase_constante, axis=1, inplace=True)\n",
    "X_valid.drop(labels=var_quase_constante, axis=1, inplace=True)\n",
    "print(X_train.shape, X_valid.shape)"
   ]
  },
  {
   "cell_type": "markdown",
   "id": "61f64b1e",
   "metadata": {
    "heading_collapsed": true
   },
   "source": [
    "#### Eliminando as variáveis com alta correlação (multicolinearidade)\n",
    "\n",
    "Variáveis com alta correlação transmitem a mesma informação para o modelo. A maioria dos modelos não lidam bem com multicolinearidade, portanto, iremos excluir essas variáveis."
   ]
  },
  {
   "cell_type": "code",
   "execution_count": 25,
   "id": "151d9c1b",
   "metadata": {
    "ExecuteTime": {
     "end_time": "2021-10-05T11:43:42.519241Z",
     "start_time": "2021-10-05T11:43:16.442963Z"
    },
    "hidden": true
   },
   "outputs": [
    {
     "data": {
      "text/plain": [
       "<AxesSubplot:>"
      ]
     },
     "execution_count": 25,
     "metadata": {},
     "output_type": "execute_result"
    },
    {
     "data": {
      "image/png": "[encoded data removed]",
      "text/plain": [
       "<Figure size 1296x1296 with 2 Axes>"
      ]
     },
     "metadata": {
      "needs_background": "light"
     },
     "output_type": "display_data"
    }
   ],
   "source": [
    "matCorr = X_train.corr()\n",
    "fig, ax = plt.subplots()\n",
    "fig.set_size_inches(18, 18)\n",
    "sns.heatmap(matCorr)"
   ]
  },
  {
   "cell_type": "markdown",
   "id": "c6e19e84",
   "metadata": {
    "hidden": true
   },
   "source": [
    "O mapa de calor acima mostra a correlação de todas as variáveis. Agora vamos selecionar as variáveis de correlação mais alta e excluí-las."
   ]
  },
  {
   "cell_type": "code",
   "execution_count": 26,
   "id": "3b9d83f1",
   "metadata": {
    "ExecuteTime": {
     "end_time": "2021-10-05T11:43:42.535268Z",
     "start_time": "2021-10-05T11:43:42.522240Z"
    },
    "hidden": true
   },
   "outputs": [],
   "source": [
    "# Criando uma função para extrair as variáveis de alta correlação\n",
    "\n",
    "def correlation(data, threshold):\n",
    "    var_corr = set() # Conjunto de todos os nomes das variáveis correlacionadas\n",
    "    corr_matrix = data.corr()\n",
    "    for i in range(len(corr_matrix.columns)):\n",
    "        for j in range(i):\n",
    "            if abs(corr_matrix.iloc[i, j]) > threshold: # Apenas valores absolutos acima do coeficiente\n",
    "                varName = corr_matrix.columns[i] # Extraindo o nome da variável\n",
    "                var_corr.add(varName)\n",
    "    return var_corr"
   ]
  },
  {
   "cell_type": "markdown",
   "id": "40f9aa65",
   "metadata": {
    "hidden": true
   },
   "source": [
    "Vamos considerar variáveis de alta correlação as variáveis com valor do coeficiente maior que 0.8"
   ]
  },
  {
   "cell_type": "code",
   "execution_count": 27,
   "id": "2aa41a8f",
   "metadata": {
    "ExecuteTime": {
     "end_time": "2021-10-05T11:44:08.420694Z",
     "start_time": "2021-10-05T11:43:42.538236Z"
    },
    "hidden": true
   },
   "outputs": [
    {
     "data": {
      "text/plain": [
       "150"
      ]
     },
     "execution_count": 27,
     "metadata": {},
     "output_type": "execute_result"
    }
   ],
   "source": [
    "# Verificando a quantidade de variáveis de alta correlação\n",
    "alta_corr = correlation(X_train, 0.8)\n",
    "len(set(alta_corr))"
   ]
  },
  {
   "cell_type": "markdown",
   "id": "d3aebf68",
   "metadata": {
    "hidden": true
   },
   "source": [
    "Temos portanto **150 variáveis** de alta correlação que iremos excluir."
   ]
  },
  {
   "cell_type": "code",
   "execution_count": 28,
   "id": "adac2b6e",
   "metadata": {
    "ExecuteTime": {
     "end_time": "2021-10-05T11:44:08.565651Z",
     "start_time": "2021-10-05T11:44:08.425692Z"
    },
    "hidden": true
   },
   "outputs": [
    {
     "name": "stdout",
     "output_type": "stream",
     "text": [
      "(49849, 118) (21364, 118)\n"
     ]
    }
   ],
   "source": [
    "X_train.drop(labels=alta_corr, axis=1, inplace=True)\n",
    "X_valid.drop(labels=alta_corr, axis=1, inplace=True)\n",
    "print(X_train.shape, X_valid.shape)"
   ]
  },
  {
   "cell_type": "code",
   "execution_count": 29,
   "id": "7351ce5e",
   "metadata": {
    "ExecuteTime": {
     "end_time": "2021-10-05T11:44:08.592643Z",
     "start_time": "2021-10-05T11:44:08.572649Z"
    },
    "hidden": true,
    "scrolled": true
   },
   "outputs": [
    {
     "name": "stdout",
     "output_type": "stream",
     "text": [
      "(49849,) (21364,)\n"
     ]
    }
   ],
   "source": [
    "print(y_train.shape, y_valid.shape)"
   ]
  },
  {
   "cell_type": "markdown",
   "id": "45c4a5e7",
   "metadata": {
    "hidden": true
   },
   "source": [
    "Vamos salvar os novos dados filtrados após as modificações e continuar a \"Feature Selection\"."
   ]
  },
  {
   "cell_type": "code",
   "execution_count": 37,
   "id": "ebb82b82",
   "metadata": {
    "ExecuteTime": {
     "end_time": "2021-10-05T14:50:55.281644Z",
     "start_time": "2021-10-05T14:50:55.133643Z"
    },
    "hidden": true
   },
   "outputs": [],
   "source": [
    "# Unindo dados de treino e validação\n",
    "X = pd.concat([X_train, X_valid])"
   ]
  },
  {
   "cell_type": "code",
   "execution_count": 38,
   "id": "9e593922",
   "metadata": {
    "ExecuteTime": {
     "end_time": "2021-10-05T14:50:56.602571Z",
     "start_time": "2021-10-05T14:50:56.589574Z"
    },
    "hidden": true
   },
   "outputs": [],
   "source": [
    "# Unindo a variável target de treino e validação\n",
    "y = pd.concat([y_train, y_valid])"
   ]
  },
  {
   "cell_type": "code",
   "execution_count": 39,
   "id": "41009eb3",
   "metadata": {
    "ExecuteTime": {
     "end_time": "2021-10-05T14:58:39.745632Z",
     "start_time": "2021-10-05T14:58:39.542660Z"
    },
    "hidden": true
   },
   "outputs": [],
   "source": [
    "# Criando novo banco de dados para salvar as alterações em disco\n",
    "dadosTreino2 = pd.concat([X, y], axis=1)"
   ]
  },
  {
   "cell_type": "code",
   "execution_count": 40,
   "id": "28d42701",
   "metadata": {
    "ExecuteTime": {
     "end_time": "2021-10-05T14:59:13.188355Z",
     "start_time": "2021-10-05T14:59:13.125374Z"
    },
    "hidden": true
   },
   "outputs": [
    {
     "data": {
      "text/html": [
       "<div>\n",
       "<style scoped>\n",
       "    .dataframe tbody tr th:only-of-type {\n",
       "        vertical-align: middle;\n",
       "    }\n",
       "\n",
       "    .dataframe tbody tr th {\n",
       "        vertical-align: top;\n",
       "    }\n",
       "\n",
       "    .dataframe thead th {\n",
       "        text-align: right;\n",
       "    }\n",
       "</style>\n",
       "<table border=\"1\" class=\"dataframe\">\n",
       "  <thead>\n",
       "    <tr style=\"text-align: right;\">\n",
       "      <th></th>\n",
       "      <th>var3</th>\n",
       "      <th>var15</th>\n",
       "      <th>imp_ent_var16_ult1</th>\n",
       "      <th>imp_op_var39_comer_ult1</th>\n",
       "      <th>imp_op_var40_comer_ult1</th>\n",
       "      <th>imp_op_var40_efect_ult1</th>\n",
       "      <th>imp_op_var40_ult1</th>\n",
       "      <th>imp_op_var41_efect_ult1</th>\n",
       "      <th>imp_sal_var16_ult1</th>\n",
       "      <th>ind_var1_0</th>\n",
       "      <th>...</th>\n",
       "      <th>saldo_medio_var12_hace3</th>\n",
       "      <th>saldo_medio_var13_corto_hace3</th>\n",
       "      <th>saldo_medio_var13_largo_hace2</th>\n",
       "      <th>saldo_medio_var13_largo_hace3</th>\n",
       "      <th>saldo_medio_var29_hace2</th>\n",
       "      <th>saldo_medio_var33_hace3</th>\n",
       "      <th>saldo_medio_var44_hace2</th>\n",
       "      <th>saldo_medio_var44_hace3</th>\n",
       "      <th>var38</th>\n",
       "      <th>TARGET</th>\n",
       "    </tr>\n",
       "  </thead>\n",
       "  <tbody>\n",
       "    <tr>\n",
       "      <th>45634</th>\n",
       "      <td>2</td>\n",
       "      <td>23</td>\n",
       "      <td>0.0</td>\n",
       "      <td>0.0</td>\n",
       "      <td>0.0</td>\n",
       "      <td>0.0</td>\n",
       "      <td>0.0</td>\n",
       "      <td>0.0</td>\n",
       "      <td>0.0</td>\n",
       "      <td>0</td>\n",
       "      <td>...</td>\n",
       "      <td>0.0</td>\n",
       "      <td>0.0</td>\n",
       "      <td>0.0</td>\n",
       "      <td>0.0</td>\n",
       "      <td>0.0</td>\n",
       "      <td>0.0</td>\n",
       "      <td>0.0</td>\n",
       "      <td>0.0</td>\n",
       "      <td>113999.850000</td>\n",
       "      <td>0</td>\n",
       "    </tr>\n",
       "    <tr>\n",
       "      <th>11031</th>\n",
       "      <td>2</td>\n",
       "      <td>26</td>\n",
       "      <td>0.0</td>\n",
       "      <td>0.0</td>\n",
       "      <td>0.0</td>\n",
       "      <td>0.0</td>\n",
       "      <td>0.0</td>\n",
       "      <td>60.0</td>\n",
       "      <td>0.0</td>\n",
       "      <td>0</td>\n",
       "      <td>...</td>\n",
       "      <td>0.0</td>\n",
       "      <td>0.0</td>\n",
       "      <td>0.0</td>\n",
       "      <td>0.0</td>\n",
       "      <td>0.0</td>\n",
       "      <td>0.0</td>\n",
       "      <td>0.0</td>\n",
       "      <td>0.0</td>\n",
       "      <td>117310.979016</td>\n",
       "      <td>0</td>\n",
       "    </tr>\n",
       "    <tr>\n",
       "      <th>53674</th>\n",
       "      <td>2</td>\n",
       "      <td>25</td>\n",
       "      <td>0.0</td>\n",
       "      <td>0.0</td>\n",
       "      <td>0.0</td>\n",
       "      <td>0.0</td>\n",
       "      <td>0.0</td>\n",
       "      <td>0.0</td>\n",
       "      <td>0.0</td>\n",
       "      <td>0</td>\n",
       "      <td>...</td>\n",
       "      <td>0.0</td>\n",
       "      <td>0.0</td>\n",
       "      <td>0.0</td>\n",
       "      <td>0.0</td>\n",
       "      <td>0.0</td>\n",
       "      <td>0.0</td>\n",
       "      <td>0.0</td>\n",
       "      <td>0.0</td>\n",
       "      <td>25096.200000</td>\n",
       "      <td>0</td>\n",
       "    </tr>\n",
       "    <tr>\n",
       "      <th>7031</th>\n",
       "      <td>2</td>\n",
       "      <td>23</td>\n",
       "      <td>0.0</td>\n",
       "      <td>0.0</td>\n",
       "      <td>0.0</td>\n",
       "      <td>0.0</td>\n",
       "      <td>0.0</td>\n",
       "      <td>0.0</td>\n",
       "      <td>0.0</td>\n",
       "      <td>0</td>\n",
       "      <td>...</td>\n",
       "      <td>0.0</td>\n",
       "      <td>0.0</td>\n",
       "      <td>0.0</td>\n",
       "      <td>0.0</td>\n",
       "      <td>0.0</td>\n",
       "      <td>0.0</td>\n",
       "      <td>0.0</td>\n",
       "      <td>0.0</td>\n",
       "      <td>120456.540000</td>\n",
       "      <td>0</td>\n",
       "    </tr>\n",
       "    <tr>\n",
       "      <th>6751</th>\n",
       "      <td>2</td>\n",
       "      <td>25</td>\n",
       "      <td>0.0</td>\n",
       "      <td>0.0</td>\n",
       "      <td>0.0</td>\n",
       "      <td>0.0</td>\n",
       "      <td>0.0</td>\n",
       "      <td>0.0</td>\n",
       "      <td>0.0</td>\n",
       "      <td>0</td>\n",
       "      <td>...</td>\n",
       "      <td>0.0</td>\n",
       "      <td>0.0</td>\n",
       "      <td>0.0</td>\n",
       "      <td>0.0</td>\n",
       "      <td>0.0</td>\n",
       "      <td>0.0</td>\n",
       "      <td>0.0</td>\n",
       "      <td>0.0</td>\n",
       "      <td>76651.290000</td>\n",
       "      <td>0</td>\n",
       "    </tr>\n",
       "  </tbody>\n",
       "</table>\n",
       "<p>5 rows × 119 columns</p>\n",
       "</div>"
      ],
      "text/plain": [
       "       var3  var15  imp_ent_var16_ult1  imp_op_var39_comer_ult1  \\\n",
       "45634     2     23                 0.0                      0.0   \n",
       "11031     2     26                 0.0                      0.0   \n",
       "53674     2     25                 0.0                      0.0   \n",
       "7031      2     23                 0.0                      0.0   \n",
       "6751      2     25                 0.0                      0.0   \n",
       "\n",
       "       imp_op_var40_comer_ult1  imp_op_var40_efect_ult1  imp_op_var40_ult1  \\\n",
       "45634                      0.0                      0.0                0.0   \n",
       "11031                      0.0                      0.0                0.0   \n",
       "53674                      0.0                      0.0                0.0   \n",
       "7031                       0.0                      0.0                0.0   \n",
       "6751                       0.0                      0.0                0.0   \n",
       "\n",
       "       imp_op_var41_efect_ult1  imp_sal_var16_ult1  ind_var1_0  ...  \\\n",
       "45634                      0.0                 0.0           0  ...   \n",
       "11031                     60.0                 0.0           0  ...   \n",
       "53674                      0.0                 0.0           0  ...   \n",
       "7031                       0.0                 0.0           0  ...   \n",
       "6751                       0.0                 0.0           0  ...   \n",
       "\n",
       "       saldo_medio_var12_hace3  saldo_medio_var13_corto_hace3  \\\n",
       "45634                      0.0                            0.0   \n",
       "11031                      0.0                            0.0   \n",
       "53674                      0.0                            0.0   \n",
       "7031                       0.0                            0.0   \n",
       "6751                       0.0                            0.0   \n",
       "\n",
       "       saldo_medio_var13_largo_hace2  saldo_medio_var13_largo_hace3  \\\n",
       "45634                            0.0                            0.0   \n",
       "11031                            0.0                            0.0   \n",
       "53674                            0.0                            0.0   \n",
       "7031                             0.0                            0.0   \n",
       "6751                             0.0                            0.0   \n",
       "\n",
       "       saldo_medio_var29_hace2  saldo_medio_var33_hace3  \\\n",
       "45634                      0.0                      0.0   \n",
       "11031                      0.0                      0.0   \n",
       "53674                      0.0                      0.0   \n",
       "7031                       0.0                      0.0   \n",
       "6751                       0.0                      0.0   \n",
       "\n",
       "       saldo_medio_var44_hace2  saldo_medio_var44_hace3          var38  TARGET  \n",
       "45634                      0.0                      0.0  113999.850000       0  \n",
       "11031                      0.0                      0.0  117310.979016       0  \n",
       "53674                      0.0                      0.0   25096.200000       0  \n",
       "7031                       0.0                      0.0  120456.540000       0  \n",
       "6751                       0.0                      0.0   76651.290000       0  \n",
       "\n",
       "[5 rows x 119 columns]"
      ]
     },
     "execution_count": 40,
     "metadata": {},
     "output_type": "execute_result"
    }
   ],
   "source": [
    "dadosTreino2.head()"
   ]
  },
  {
   "cell_type": "code",
   "execution_count": 42,
   "id": "2796164f",
   "metadata": {
    "ExecuteTime": {
     "end_time": "2021-10-05T15:10:38.403967Z",
     "start_time": "2021-10-05T15:10:34.030012Z"
    },
    "hidden": true
   },
   "outputs": [],
   "source": [
    "# Salvando os dados\n",
    "dadosTreino2.to_csv('outputs/dadosTreino2.csv', index=False)"
   ]
  },
  {
   "cell_type": "markdown",
   "id": "71be44a6",
   "metadata": {},
   "source": [
    "#### Método F-valor ANOVA para Seleção de Variáveis"
   ]
  },
  {
   "cell_type": "markdown",
   "id": "62cc1b44",
   "metadata": {},
   "source": [
    "Como mostra a imagem abaixo, por se tratar de um problema de classificação e termos as variáveis numéricas, vamos escolher o método ANOVA para dar sequência a seleção das variáveis que melhor se adequam ao treinamento do modelo.\n",
    "\n",
    "ANOVA é uma técnica estatística que realiza análise de variância e é utilizada para fazer comparações entre três ou mais grupos em amostras independentes.\n",
    "\n",
    "Os métodos baseados no teste F estimam o grau de dependência linear entre duas variáveis aleatórias."
   ]
  },
  {
   "cell_type": "code",
   "execution_count": 3,
   "id": "60b3d286",
   "metadata": {
    "ExecuteTime": {
     "end_time": "2021-10-07T14:40:45.554440Z",
     "start_time": "2021-10-07T14:40:45.541468Z"
    }
   },
   "outputs": [
    {
     "data": {
      "text/html": [
       "<img src=\"imagens/How-to-Choose-Feature-Selection-Methods-For-Machine-Learning.png\"/>"
      ],
      "text/plain": [
       "<IPython.core.display.Image object>"
      ]
     },
     "execution_count": 3,
     "metadata": {},
     "output_type": "execute_result"
    }
   ],
   "source": [
    "Image(url = 'imagens/How-to-Choose-Feature-Selection-Methods-For-Machine-Learning.png')"
   ]
  },
  {
   "cell_type": "code",
   "execution_count": 3,
   "id": "e75a8659",
   "metadata": {
    "ExecuteTime": {
     "end_time": "2021-10-08T13:08:00.892721Z",
     "start_time": "2021-10-08T13:07:59.814996Z"
    }
   },
   "outputs": [
    {
     "data": {
      "text/html": [
       "<div>\n",
       "<style scoped>\n",
       "    .dataframe tbody tr th:only-of-type {\n",
       "        vertical-align: middle;\n",
       "    }\n",
       "\n",
       "    .dataframe tbody tr th {\n",
       "        vertical-align: top;\n",
       "    }\n",
       "\n",
       "    .dataframe thead th {\n",
       "        text-align: right;\n",
       "    }\n",
       "</style>\n",
       "<table border=\"1\" class=\"dataframe\">\n",
       "  <thead>\n",
       "    <tr style=\"text-align: right;\">\n",
       "      <th></th>\n",
       "      <th>var3</th>\n",
       "      <th>var15</th>\n",
       "      <th>imp_ent_var16_ult1</th>\n",
       "      <th>imp_op_var39_comer_ult1</th>\n",
       "      <th>imp_op_var40_comer_ult1</th>\n",
       "      <th>imp_op_var40_efect_ult1</th>\n",
       "      <th>imp_op_var40_ult1</th>\n",
       "      <th>imp_op_var41_efect_ult1</th>\n",
       "      <th>imp_sal_var16_ult1</th>\n",
       "      <th>ind_var1_0</th>\n",
       "      <th>...</th>\n",
       "      <th>saldo_medio_var12_hace3</th>\n",
       "      <th>saldo_medio_var13_corto_hace3</th>\n",
       "      <th>saldo_medio_var13_largo_hace2</th>\n",
       "      <th>saldo_medio_var13_largo_hace3</th>\n",
       "      <th>saldo_medio_var29_hace2</th>\n",
       "      <th>saldo_medio_var33_hace3</th>\n",
       "      <th>saldo_medio_var44_hace2</th>\n",
       "      <th>saldo_medio_var44_hace3</th>\n",
       "      <th>var38</th>\n",
       "      <th>TARGET</th>\n",
       "    </tr>\n",
       "  </thead>\n",
       "  <tbody>\n",
       "    <tr>\n",
       "      <th>0</th>\n",
       "      <td>2</td>\n",
       "      <td>23</td>\n",
       "      <td>0.0</td>\n",
       "      <td>0.0</td>\n",
       "      <td>0.0</td>\n",
       "      <td>0.0</td>\n",
       "      <td>0.0</td>\n",
       "      <td>0.0</td>\n",
       "      <td>0.0</td>\n",
       "      <td>0</td>\n",
       "      <td>...</td>\n",
       "      <td>0.0</td>\n",
       "      <td>0.0</td>\n",
       "      <td>0.0</td>\n",
       "      <td>0.0</td>\n",
       "      <td>0.0</td>\n",
       "      <td>0.0</td>\n",
       "      <td>0.0</td>\n",
       "      <td>0.0</td>\n",
       "      <td>113999.850000</td>\n",
       "      <td>0</td>\n",
       "    </tr>\n",
       "    <tr>\n",
       "      <th>1</th>\n",
       "      <td>2</td>\n",
       "      <td>26</td>\n",
       "      <td>0.0</td>\n",
       "      <td>0.0</td>\n",
       "      <td>0.0</td>\n",
       "      <td>0.0</td>\n",
       "      <td>0.0</td>\n",
       "      <td>60.0</td>\n",
       "      <td>0.0</td>\n",
       "      <td>0</td>\n",
       "      <td>...</td>\n",
       "      <td>0.0</td>\n",
       "      <td>0.0</td>\n",
       "      <td>0.0</td>\n",
       "      <td>0.0</td>\n",
       "      <td>0.0</td>\n",
       "      <td>0.0</td>\n",
       "      <td>0.0</td>\n",
       "      <td>0.0</td>\n",
       "      <td>117310.979016</td>\n",
       "      <td>0</td>\n",
       "    </tr>\n",
       "    <tr>\n",
       "      <th>2</th>\n",
       "      <td>2</td>\n",
       "      <td>25</td>\n",
       "      <td>0.0</td>\n",
       "      <td>0.0</td>\n",
       "      <td>0.0</td>\n",
       "      <td>0.0</td>\n",
       "      <td>0.0</td>\n",
       "      <td>0.0</td>\n",
       "      <td>0.0</td>\n",
       "      <td>0</td>\n",
       "      <td>...</td>\n",
       "      <td>0.0</td>\n",
       "      <td>0.0</td>\n",
       "      <td>0.0</td>\n",
       "      <td>0.0</td>\n",
       "      <td>0.0</td>\n",
       "      <td>0.0</td>\n",
       "      <td>0.0</td>\n",
       "      <td>0.0</td>\n",
       "      <td>25096.200000</td>\n",
       "      <td>0</td>\n",
       "    </tr>\n",
       "    <tr>\n",
       "      <th>3</th>\n",
       "      <td>2</td>\n",
       "      <td>23</td>\n",
       "      <td>0.0</td>\n",
       "      <td>0.0</td>\n",
       "      <td>0.0</td>\n",
       "      <td>0.0</td>\n",
       "      <td>0.0</td>\n",
       "      <td>0.0</td>\n",
       "      <td>0.0</td>\n",
       "      <td>0</td>\n",
       "      <td>...</td>\n",
       "      <td>0.0</td>\n",
       "      <td>0.0</td>\n",
       "      <td>0.0</td>\n",
       "      <td>0.0</td>\n",
       "      <td>0.0</td>\n",
       "      <td>0.0</td>\n",
       "      <td>0.0</td>\n",
       "      <td>0.0</td>\n",
       "      <td>120456.540000</td>\n",
       "      <td>0</td>\n",
       "    </tr>\n",
       "    <tr>\n",
       "      <th>4</th>\n",
       "      <td>2</td>\n",
       "      <td>25</td>\n",
       "      <td>0.0</td>\n",
       "      <td>0.0</td>\n",
       "      <td>0.0</td>\n",
       "      <td>0.0</td>\n",
       "      <td>0.0</td>\n",
       "      <td>0.0</td>\n",
       "      <td>0.0</td>\n",
       "      <td>0</td>\n",
       "      <td>...</td>\n",
       "      <td>0.0</td>\n",
       "      <td>0.0</td>\n",
       "      <td>0.0</td>\n",
       "      <td>0.0</td>\n",
       "      <td>0.0</td>\n",
       "      <td>0.0</td>\n",
       "      <td>0.0</td>\n",
       "      <td>0.0</td>\n",
       "      <td>76651.290000</td>\n",
       "      <td>0</td>\n",
       "    </tr>\n",
       "  </tbody>\n",
       "</table>\n",
       "<p>5 rows × 119 columns</p>\n",
       "</div>"
      ],
      "text/plain": [
       "   var3  var15  imp_ent_var16_ult1  imp_op_var39_comer_ult1  \\\n",
       "0     2     23                 0.0                      0.0   \n",
       "1     2     26                 0.0                      0.0   \n",
       "2     2     25                 0.0                      0.0   \n",
       "3     2     23                 0.0                      0.0   \n",
       "4     2     25                 0.0                      0.0   \n",
       "\n",
       "   imp_op_var40_comer_ult1  imp_op_var40_efect_ult1  imp_op_var40_ult1  \\\n",
       "0                      0.0                      0.0                0.0   \n",
       "1                      0.0                      0.0                0.0   \n",
       "2                      0.0                      0.0                0.0   \n",
       "3                      0.0                      0.0                0.0   \n",
       "4                      0.0                      0.0                0.0   \n",
       "\n",
       "   imp_op_var41_efect_ult1  imp_sal_var16_ult1  ind_var1_0  ...  \\\n",
       "0                      0.0                 0.0           0  ...   \n",
       "1                     60.0                 0.0           0  ...   \n",
       "2                      0.0                 0.0           0  ...   \n",
       "3                      0.0                 0.0           0  ...   \n",
       "4                      0.0                 0.0           0  ...   \n",
       "\n",
       "   saldo_medio_var12_hace3  saldo_medio_var13_corto_hace3  \\\n",
       "0                      0.0                            0.0   \n",
       "1                      0.0                            0.0   \n",
       "2                      0.0                            0.0   \n",
       "3                      0.0                            0.0   \n",
       "4                      0.0                            0.0   \n",
       "\n",
       "   saldo_medio_var13_largo_hace2  saldo_medio_var13_largo_hace3  \\\n",
       "0                            0.0                            0.0   \n",
       "1                            0.0                            0.0   \n",
       "2                            0.0                            0.0   \n",
       "3                            0.0                            0.0   \n",
       "4                            0.0                            0.0   \n",
       "\n",
       "   saldo_medio_var29_hace2  saldo_medio_var33_hace3  saldo_medio_var44_hace2  \\\n",
       "0                      0.0                      0.0                      0.0   \n",
       "1                      0.0                      0.0                      0.0   \n",
       "2                      0.0                      0.0                      0.0   \n",
       "3                      0.0                      0.0                      0.0   \n",
       "4                      0.0                      0.0                      0.0   \n",
       "\n",
       "   saldo_medio_var44_hace3          var38  TARGET  \n",
       "0                      0.0  113999.850000       0  \n",
       "1                      0.0  117310.979016       0  \n",
       "2                      0.0   25096.200000       0  \n",
       "3                      0.0  120456.540000       0  \n",
       "4                      0.0   76651.290000       0  \n",
       "\n",
       "[5 rows x 119 columns]"
      ]
     },
     "execution_count": 3,
     "metadata": {},
     "output_type": "execute_result"
    }
   ],
   "source": [
    "# Carregando os dados de treino modificados\n",
    "dadosTreino2 = pd.read_csv('outputs/dadosTreino2.csv')\n",
    "dadosTreino2.head()"
   ]
  },
  {
   "cell_type": "markdown",
   "id": "09a3ebce",
   "metadata": {},
   "source": [
    "Vamos utilizar o teste *F_classif* do scikit learn.\n",
    "\n",
    "A função \"SelectKBest\" precisa receber a técnica que vamos utilizar e coeficiente \"k\" que indica o número de variáveis que desejamos obter."
   ]
  },
  {
   "cell_type": "code",
   "execution_count": 4,
   "id": "3fb65607",
   "metadata": {
    "ExecuteTime": {
     "end_time": "2021-10-08T13:08:03.916466Z",
     "start_time": "2021-10-08T13:08:03.714518Z"
    }
   },
   "outputs": [
    {
     "data": {
      "text/plain": [
       "((49849, 118), (21364, 118), (49849,), (21364,))"
      ]
     },
     "execution_count": 4,
     "metadata": {},
     "output_type": "execute_result"
    }
   ],
   "source": [
    "# Separando os dataset em dados de treino e validação\n",
    "X = dadosTreino2.drop(labels=['TARGET'], axis=1)\n",
    "y = dadosTreino2['TARGET']\n",
    "X_train, X_valid, y_train, y_valid = train_test_split(X, y, test_size=0.3, random_state=0)\n",
    "X_train.shape, X_valid.shape, y_train.shape, y_valid.shape"
   ]
  },
  {
   "cell_type": "code",
   "execution_count": 5,
   "id": "7a3aedfc",
   "metadata": {
    "ExecuteTime": {
     "end_time": "2021-10-08T13:08:12.096679Z",
     "start_time": "2021-10-08T13:08:09.545430Z"
    }
   },
   "outputs": [
    {
     "name": "stdout",
     "output_type": "stream",
     "text": [
      "k = 10 \n",
      "Accuracy = 0.9567496723460026\n"
     ]
    }
   ],
   "source": [
    "# Criando um objeto para selecionar as variáveis com 10 melhores F-Valores ANOVA como exemplo\n",
    "k = 10\n",
    "seletor = SelectKBest(score_func=f_classif, k=k)\n",
    "\n",
    "# Aplicando o seletor  nas variáveis independentes e alvo\n",
    "X_train2 = seletor.fit_transform(X_train, y_train)\n",
    "X_valid2 = seletor.transform(X_valid)\n",
    "\n",
    "# Criando um modelo de classificação\n",
    "mdl = RandomForestClassifier(n_estimators=100, n_jobs=-1, random_state=0)\n",
    "mdl.fit(X_train2, y_train)\n",
    "\n",
    "p = mdl.predict(X_valid2)\n",
    "\n",
    "# Avaliando a performance\n",
    "score = accuracy_score(y_valid, p)\n",
    "print('k = {} \\nAccuracy = {}'.format(k, score))"
   ]
  },
  {
   "cell_type": "code",
   "execution_count": 9,
   "id": "c9011c65",
   "metadata": {
    "ExecuteTime": {
     "end_time": "2021-10-08T13:30:45.632426Z",
     "start_time": "2021-10-08T13:24:12.935819Z"
    }
   },
   "outputs": [
    {
     "name": "stdout",
     "output_type": "stream",
     "text": [
      "k = 2 \n",
      "Accuracy = 0.9594645197528553\n",
      "k = 4 \n",
      "Accuracy = 0.9590900580415652\n",
      "k = 6 \n",
      "Accuracy = 0.9583411346189852\n",
      "k = 8 \n",
      "Accuracy = 0.9566560569181801\n",
      "k = 10 \n",
      "Accuracy = 0.9567496723460026\n",
      "k = 12 \n",
      "Accuracy = 0.9566092492042688\n",
      "k = 14 \n",
      "Accuracy = 0.9574049803407602\n",
      "k = 16 \n",
      "Accuracy = 0.9573581726268489\n",
      "k = 18 \n",
      "Accuracy = 0.9573581726268489\n",
      "k = 20 \n",
      "Accuracy = 0.9501029769706048\n",
      "k = 22 \n",
      "Accuracy = 0.9504306309679835\n",
      "k = 24 \n",
      "Accuracy = 0.9496817075454035\n",
      "k = 26 \n",
      "Accuracy = 0.9511795543905636\n",
      "k = 28 \n",
      "Accuracy = 0.9513667852462085\n",
      "k = 30 \n",
      "Accuracy = 0.9513199775322974\n",
      "k = 32 \n",
      "Accuracy = 0.9512263621044749\n",
      "k = 34 \n",
      "Accuracy = 0.9515540161018536\n",
      "k = 36 \n",
      "Accuracy = 0.9517880546714098\n",
      "k = 38 \n",
      "Accuracy = 0.9515540161018536\n",
      "k = 40 \n",
      "Accuracy = 0.9517880546714098\n",
      "k = 42 \n",
      "Accuracy = 0.9524433626661674\n",
      "k = 44 \n",
      "Accuracy = 0.9518348623853211\n",
      "k = 46 \n",
      "Accuracy = 0.9520220932409661\n",
      "k = 48 \n",
      "Accuracy = 0.9521625163826999\n",
      "k = 50 \n",
      "Accuracy = 0.9523029395244337\n",
      "k = 52 \n",
      "Accuracy = 0.9523029395244337\n",
      "k = 54 \n",
      "Accuracy = 0.9522561318105224\n",
      "k = 56 \n",
      "Accuracy = 0.9519284778131436\n",
      "k = 58 \n",
      "Accuracy = 0.9521157086687886\n",
      "k = 60 \n",
      "Accuracy = 0.9523029395244337\n",
      "k = 62 \n",
      "Accuracy = 0.9523497472383449\n",
      "k = 64 \n",
      "Accuracy = 0.9525369780939899\n",
      "k = 66 \n",
      "Accuracy = 0.9527242089496349\n",
      "k = 68 \n",
      "Accuracy = 0.9523029395244337\n",
      "k = 70 \n",
      "Accuracy = 0.9525369780939899\n",
      "k = 72 \n",
      "Accuracy = 0.9525837858079012\n",
      "k = 74 \n",
      "Accuracy = 0.9527242089496349\n",
      "k = 76 \n",
      "Accuracy = 0.9522561318105224\n",
      "k = 78 \n",
      "Accuracy = 0.9525369780939899\n",
      "k = 80 \n",
      "Accuracy = 0.9526305935218123\n",
      "k = 82 \n",
      "Accuracy = 0.9523029395244337\n",
      "k = 84 \n",
      "Accuracy = 0.9525369780939899\n",
      "k = 86 \n",
      "Accuracy = 0.9522093240966111\n",
      "k = 88 \n",
      "Accuracy = 0.9523497472383449\n",
      "k = 90 \n",
      "Accuracy = 0.9524433626661674\n",
      "k = 92 \n",
      "Accuracy = 0.9523029395244337\n",
      "k = 94 \n",
      "Accuracy = 0.9511327466766523\n",
      "k = 96 \n",
      "Accuracy = 0.9508050926792735\n",
      "k = 98 \n",
      "Accuracy = 0.9511795543905636\n",
      "k = 100 \n",
      "Accuracy = 0.9510391312488298\n",
      "k = 102 \n",
      "Accuracy = 0.9516008238157648\n",
      "k = 104 \n",
      "Accuracy = 0.9514135929601198\n",
      "k = 106 \n",
      "Accuracy = 0.951273169818386\n",
      "k = 108 \n",
      "Accuracy = 0.9510391312488298\n",
      "k = 110 \n",
      "Accuracy = 0.951273169818386\n",
      "k = 112 \n",
      "Accuracy = 0.9511327466766523\n",
      "k = 114 \n",
      "Accuracy = 0.9509923235349186\n",
      "k = 116 \n",
      "Accuracy = 0.9508519003931848\n",
      "k = 118 \n",
      "Accuracy = 0.9510859389627411\n"
     ]
    }
   ],
   "source": [
    "# Criando um objeto para selecionar as variáveis com as melhores F-Valores ANOVA\n",
    "# Encontrando melhor valor de K\n",
    "\n",
    "k_score = []\n",
    "for k in range(2, len(X_train.columns) + 1, 2):   \n",
    "    seletor = SelectKBest(score_func=f_classif, k=k)\n",
    "    \n",
    "    # Aplicando o seletor  nas variáveis independentes e alvo\n",
    "    X_train2 = seletor.fit_transform(X_train, y_train)\n",
    "    X_valid2 = seletor.transform(X_valid)\n",
    "    \n",
    "    mdl = RandomForestClassifier(n_estimators=100, n_jobs=-1, random_state=0)\n",
    "    mdl.fit(X_train2, y_train)\n",
    "    \n",
    "    p = mdl.predict(X_valid2)\n",
    "    \n",
    "    score = accuracy_score(y_valid, p)\n",
    "    k_score.append(score)\n",
    "    print('k = {} \\nAccuracy = {}'.format(k, score))"
   ]
  },
  {
   "cell_type": "code",
   "execution_count": 13,
   "id": "48016939",
   "metadata": {
    "ExecuteTime": {
     "end_time": "2021-10-08T14:09:59.328679Z",
     "start_time": "2021-10-08T14:09:59.046795Z"
    }
   },
   "outputs": [
    {
     "data": {
      "image/png": "[encoded data removed]",
      "text/plain": [
       "<Figure size 864x576 with 1 Axes>"
      ]
     },
     "metadata": {
      "needs_background": "light"
     },
     "output_type": "display_data"
    }
   ],
   "source": [
    "# Gerando um gráfico com resultados para avaliar a melhor opção\n",
    "eixoX = range(2, len(X_train.columns) + 1, 2)\n",
    "eixoY = k_score\n",
    "plt.figure(figsize=(12,8))\n",
    "plt.plot(eixoX, eixoY)\n",
    "plt.xlabel('Quantidade de Variáveis', fontsize=12)\n",
    "plt.ylabel('Acurácia', fontsize=12)\n",
    "plt.title('Valores de \"K\"', fontsize=14)\n",
    "plt.grid(True)\n",
    "plt.show()"
   ]
  },
  {
   "cell_type": "markdown",
   "id": "f55692ef",
   "metadata": {},
   "source": [
    "Visando escolher uma região estável da curva acima, vamos escolher o valor de 60 variáveis para reajustar o objeto seletor."
   ]
  },
  {
   "cell_type": "code",
   "execution_count": 14,
   "id": "07cd04fe",
   "metadata": {
    "ExecuteTime": {
     "end_time": "2021-10-08T14:15:00.742586Z",
     "start_time": "2021-10-08T14:15:00.437680Z"
    }
   },
   "outputs": [
    {
     "data": {
      "text/plain": [
       "SelectKBest(k=60)"
      ]
     },
     "execution_count": 14,
     "metadata": {},
     "output_type": "execute_result"
    }
   ],
   "source": [
    "# Ajustando o seletor para 60 variáveis\n",
    "k = 60\n",
    "seletor = SelectKBest(score_func=f_classif, k=k)\n",
    "seletor.fit(X_train, y_train)"
   ]
  },
  {
   "cell_type": "code",
   "execution_count": 16,
   "id": "99d0ef20",
   "metadata": {
    "ExecuteTime": {
     "end_time": "2021-10-08T14:21:48.214049Z",
     "start_time": "2021-10-08T14:21:48.200050Z"
    }
   },
   "outputs": [
    {
     "data": {
      "text/plain": [
       "Index(['var15', 'imp_op_var39_comer_ult1', 'imp_op_var40_efect_ult1',\n",
       "       'imp_op_var40_ult1', 'imp_op_var41_efect_ult1', 'ind_var5_0',\n",
       "       'ind_var5', 'ind_var12_0', 'ind_var13_0', 'ind_var13_largo_0',\n",
       "       'ind_var14_0', 'ind_var25_cte', 'ind_var39_0', 'num_var1', 'num_var4',\n",
       "       'num_var14', 'num_var20_0', 'num_op_var41_hace2', 'num_op_var41_hace3',\n",
       "       'num_op_var41_ult1', 'num_var30_0', 'num_var33_0', 'saldo_var1',\n",
       "       'saldo_var5', 'saldo_var12', 'saldo_var13_corto', 'saldo_var13_largo',\n",
       "       'saldo_var14', 'saldo_var26', 'saldo_var30', 'var36',\n",
       "       'delta_imp_aport_var13_1y3', 'delta_imp_venta_var44_1y3',\n",
       "       'imp_aport_var13_hace3', 'imp_aport_var13_ult1', 'imp_reemb_var17_ult1',\n",
       "       'imp_trans_var37_ult1', 'ind_var43_emit_ult1', 'ind_var43_recib_ult1',\n",
       "       'var21', 'num_aport_var13_hace3', 'num_aport_var17_ult1',\n",
       "       'num_ent_var16_ult1', 'num_var22_hace2', 'num_var22_ult1',\n",
       "       'num_var22_ult3', 'num_med_var45_ult3', 'num_meses_var39_vig_ult3',\n",
       "       'num_op_var41_efect_ult1', 'num_sal_var16_ult1', 'num_var43_recib_ult1',\n",
       "       'num_trasp_var11_ult1', 'saldo_medio_var5_hace2',\n",
       "       'saldo_medio_var5_hace3', 'saldo_medio_var8_hace2',\n",
       "       'saldo_medio_var12_hace3', 'saldo_medio_var13_corto_hace3',\n",
       "       'saldo_medio_var13_largo_hace2', 'saldo_medio_var13_largo_hace3',\n",
       "       'var38'],\n",
       "      dtype='object')"
      ]
     },
     "execution_count": 16,
     "metadata": {},
     "output_type": "execute_result"
    }
   ],
   "source": [
    "# Carregando as 60 variáveis selecionadas\n",
    "var_sel = seletor.get_support()\n",
    "#X_valid.iloc[:, var_sel]\n",
    "X_valid.columns[var_sel]"
   ]
  },
  {
   "cell_type": "code",
   "execution_count": 24,
   "id": "7f8b3c52",
   "metadata": {
    "ExecuteTime": {
     "end_time": "2021-10-08T14:34:48.134606Z",
     "start_time": "2021-10-08T14:34:47.917670Z"
    },
    "scrolled": false
   },
   "outputs": [
    {
     "data": {
      "image/png": "[encoded data removed]",
      "text/plain": [
       "<Figure size 432x288 with 1 Axes>"
      ]
     },
     "metadata": {
      "needs_background": "light"
     },
     "output_type": "display_data"
    }
   ],
   "source": [
    "# Para efeito de observação vamos olhar as 5 melhores variáveis que o modelo considerou\n",
    "pd.Series(seletor.scores_, index=X_train.columns).sort_values().tail().plot.barh();"
   ]
  },
  {
   "cell_type": "code",
   "execution_count": null,
   "id": "e88838ba",
   "metadata": {},
   "outputs": [],
   "source": [
    "# continua..."
   ]
  }
 ],
 "metadata": {
  "kernelspec": {
   "display_name": "Python 3",
   "language": "python",
   "name": "python3"
  },
  "language_info": {
   "codemirror_mode": {
    "name": "ipython",
    "version": 3
   },
   "file_extension": ".py",
   "mimetype": "text/x-python",
   "name": "python",
   "nbconvert_exporter": "python",
   "pygments_lexer": "ipython3",
   "version": "3.8.5"
  },
  "varInspector": {
   "cols": {
    "lenName": 16,
    "lenType": 16,
    "lenVar": 40
   },
   "kernels_config": {
    "python": {
     "delete_cmd_postfix": "",
     "delete_cmd_prefix": "del ",
     "library": "var_list.py",
     "varRefreshCmd": "print(var_dic_list())"
    },
    "r": {
     "delete_cmd_postfix": ") ",
     "delete_cmd_prefix": "rm(",
     "library": "var_list.r",
     "varRefreshCmd": "cat(var_dic_list()) "
    }
   },
   "types_to_exclude": [
    "module",
    "function",
    "builtin_function_or_method",
    "instance",
    "_Feature"
   ],
   "window_display": false
  }
 },
 "nbformat": 4,
 "nbformat_minor": 5
}
